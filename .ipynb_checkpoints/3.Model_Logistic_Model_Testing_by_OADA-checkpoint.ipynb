{
 "cells": [
  {
   "cell_type": "code",
   "execution_count": 200,
   "metadata": {},
   "outputs": [],
   "source": [
    "import pandas as pd\n",
    "import numpy as np\n",
    "import warnings\n",
    "warnings.filterwarnings('ignore')\n",
    "warnings.filterwarnings(\"ignore\", message=\"numpy.ufunc size changed\")\n",
    "import matplotlib.pyplot as plt\n",
    "import seaborn as sns\n",
    "%matplotlib inline\n",
    "pd.set_option('display.max_columns', None)\n",
    "import re\n",
    "from statsmodels.stats.outliers_influence import variance_inflation_factor\n",
    "from statsmodels.tools.tools import add_constant\n",
    "from scipy.stats import chi2_contingency"
   ]
  },
  {
   "cell_type": "code",
   "execution_count": 201,
   "metadata": {},
   "outputs": [],
   "source": [
    "data = pd.read_csv('data_preprocessed.csv')"
   ]
  },
  {
   "cell_type": "code",
   "execution_count": 202,
   "metadata": {},
   "outputs": [
    {
     "data": {
      "text/html": [
       "<div>\n",
       "<style scoped>\n",
       "    .dataframe tbody tr th:only-of-type {\n",
       "        vertical-align: middle;\n",
       "    }\n",
       "\n",
       "    .dataframe tbody tr th {\n",
       "        vertical-align: top;\n",
       "    }\n",
       "\n",
       "    .dataframe thead th {\n",
       "        text-align: right;\n",
       "    }\n",
       "</style>\n",
       "<table border=\"1\" class=\"dataframe\">\n",
       "  <thead>\n",
       "    <tr style=\"text-align: right;\">\n",
       "      <th></th>\n",
       "      <th>0</th>\n",
       "      <th>1</th>\n",
       "      <th>2</th>\n",
       "      <th>3</th>\n",
       "      <th>4</th>\n",
       "      <th>5</th>\n",
       "      <th>6</th>\n",
       "      <th>7</th>\n",
       "      <th>8</th>\n",
       "      <th>9</th>\n",
       "      <th>10</th>\n",
       "    </tr>\n",
       "  </thead>\n",
       "  <tbody>\n",
       "    <tr>\n",
       "      <th>0</th>\n",
       "      <td>-0.707195</td>\n",
       "      <td>-0.701538</td>\n",
       "      <td>-1.017057</td>\n",
       "      <td>0.627343</td>\n",
       "      <td>-0.171386</td>\n",
       "      <td>1.351088</td>\n",
       "      <td>0.955242</td>\n",
       "      <td>1.410294</td>\n",
       "      <td>1.215747</td>\n",
       "      <td>0.450216</td>\n",
       "      <td>No</td>\n",
       "    </tr>\n",
       "    <tr>\n",
       "      <th>1</th>\n",
       "      <td>-0.707195</td>\n",
       "      <td>-0.701538</td>\n",
       "      <td>-1.017057</td>\n",
       "      <td>-2.009151</td>\n",
       "      <td>-1.206584</td>\n",
       "      <td>-1.300913</td>\n",
       "      <td>-1.855615</td>\n",
       "      <td>-0.004802</td>\n",
       "      <td>-0.007554</td>\n",
       "      <td>1.348449</td>\n",
       "      <td>No</td>\n",
       "    </tr>\n",
       "    <tr>\n",
       "      <th>2</th>\n",
       "      <td>-0.707195</td>\n",
       "      <td>-0.701538</td>\n",
       "      <td>0.983229</td>\n",
       "      <td>-1.786702</td>\n",
       "      <td>-1.534192</td>\n",
       "      <td>-0.965457</td>\n",
       "      <td>-0.669876</td>\n",
       "      <td>1.410294</td>\n",
       "      <td>-0.007554</td>\n",
       "      <td>-1.346251</td>\n",
       "      <td>No</td>\n",
       "    </tr>\n",
       "    <tr>\n",
       "      <th>3</th>\n",
       "      <td>-0.707195</td>\n",
       "      <td>-0.701538</td>\n",
       "      <td>-1.017057</td>\n",
       "      <td>0.823976</td>\n",
       "      <td>0.700991</td>\n",
       "      <td>-0.098335</td>\n",
       "      <td>0.288285</td>\n",
       "      <td>-0.004802</td>\n",
       "      <td>1.215747</td>\n",
       "      <td>0.450216</td>\n",
       "      <td>No</td>\n",
       "    </tr>\n",
       "    <tr>\n",
       "      <th>4</th>\n",
       "      <td>-0.707195</td>\n",
       "      <td>-0.701538</td>\n",
       "      <td>-1.017057</td>\n",
       "      <td>0.796750</td>\n",
       "      <td>1.268130</td>\n",
       "      <td>-0.269228</td>\n",
       "      <td>0.163701</td>\n",
       "      <td>-0.004802</td>\n",
       "      <td>-0.007554</td>\n",
       "      <td>2.246683</td>\n",
       "      <td>No</td>\n",
       "    </tr>\n",
       "  </tbody>\n",
       "</table>\n",
       "</div>"
      ],
      "text/plain": [
       "          0         1         2         3         4         5         6  \\\n",
       "0 -0.707195 -0.701538 -1.017057  0.627343 -0.171386  1.351088  0.955242   \n",
       "1 -0.707195 -0.701538 -1.017057 -2.009151 -1.206584 -1.300913 -1.855615   \n",
       "2 -0.707195 -0.701538  0.983229 -1.786702 -1.534192 -0.965457 -0.669876   \n",
       "3 -0.707195 -0.701538 -1.017057  0.823976  0.700991 -0.098335  0.288285   \n",
       "4 -0.707195 -0.701538 -1.017057  0.796750  1.268130 -0.269228  0.163701   \n",
       "\n",
       "          7         8         9  10  \n",
       "0  1.410294  1.215747  0.450216  No  \n",
       "1 -0.004802 -0.007554  1.348449  No  \n",
       "2  1.410294 -0.007554 -1.346251  No  \n",
       "3 -0.004802  1.215747  0.450216  No  \n",
       "4 -0.004802 -0.007554  2.246683  No  "
      ]
     },
     "execution_count": 202,
     "metadata": {},
     "output_type": "execute_result"
    }
   ],
   "source": [
    "data.head()"
   ]
  },
  {
   "cell_type": "code",
   "execution_count": 241,
   "metadata": {},
   "outputs": [],
   "source": [
    "y = pd.DataFrame(data['10'])\n",
    "X = data.drop(['10'],axis=1)"
   ]
  },
  {
   "cell_type": "code",
   "execution_count": 240,
   "metadata": {},
   "outputs": [
    {
     "data": {
      "text/html": [
       "<div>\n",
       "<style scoped>\n",
       "    .dataframe tbody tr th:only-of-type {\n",
       "        vertical-align: middle;\n",
       "    }\n",
       "\n",
       "    .dataframe tbody tr th {\n",
       "        vertical-align: top;\n",
       "    }\n",
       "\n",
       "    .dataframe thead th {\n",
       "        text-align: right;\n",
       "    }\n",
       "</style>\n",
       "<table border=\"1\" class=\"dataframe\">\n",
       "  <thead>\n",
       "    <tr style=\"text-align: right;\">\n",
       "      <th></th>\n",
       "      <th>10</th>\n",
       "    </tr>\n",
       "  </thead>\n",
       "  <tbody>\n",
       "    <tr>\n",
       "      <th>0</th>\n",
       "      <td>No</td>\n",
       "    </tr>\n",
       "    <tr>\n",
       "      <th>1</th>\n",
       "      <td>No</td>\n",
       "    </tr>\n",
       "    <tr>\n",
       "      <th>2</th>\n",
       "      <td>No</td>\n",
       "    </tr>\n",
       "    <tr>\n",
       "      <th>3</th>\n",
       "      <td>No</td>\n",
       "    </tr>\n",
       "    <tr>\n",
       "      <th>4</th>\n",
       "      <td>No</td>\n",
       "    </tr>\n",
       "  </tbody>\n",
       "</table>\n",
       "</div>"
      ],
      "text/plain": [
       "   10\n",
       "0  No\n",
       "1  No\n",
       "2  No\n",
       "3  No\n",
       "4  No"
      ]
     },
     "execution_count": 240,
     "metadata": {},
     "output_type": "execute_result"
    }
   ],
   "source": [
    "y.head()"
   ]
  },
  {
   "cell_type": "code",
   "execution_count": 212,
   "metadata": {},
   "outputs": [
    {
     "data": {
      "text/html": [
       "<div>\n",
       "<style scoped>\n",
       "    .dataframe tbody tr th:only-of-type {\n",
       "        vertical-align: middle;\n",
       "    }\n",
       "\n",
       "    .dataframe tbody tr th {\n",
       "        vertical-align: top;\n",
       "    }\n",
       "\n",
       "    .dataframe thead th {\n",
       "        text-align: right;\n",
       "    }\n",
       "</style>\n",
       "<table border=\"1\" class=\"dataframe\">\n",
       "  <thead>\n",
       "    <tr style=\"text-align: right;\">\n",
       "      <th></th>\n",
       "      <th>0</th>\n",
       "      <th>1</th>\n",
       "      <th>2</th>\n",
       "      <th>3</th>\n",
       "      <th>4</th>\n",
       "      <th>5</th>\n",
       "      <th>6</th>\n",
       "      <th>7</th>\n",
       "      <th>8</th>\n",
       "      <th>9</th>\n",
       "    </tr>\n",
       "  </thead>\n",
       "  <tbody>\n",
       "    <tr>\n",
       "      <th>0</th>\n",
       "      <td>-0.707195</td>\n",
       "      <td>-0.701538</td>\n",
       "      <td>-1.017057</td>\n",
       "      <td>0.627343</td>\n",
       "      <td>-0.171386</td>\n",
       "      <td>1.351088</td>\n",
       "      <td>0.955242</td>\n",
       "      <td>1.410294</td>\n",
       "      <td>1.215747</td>\n",
       "      <td>0.450216</td>\n",
       "    </tr>\n",
       "    <tr>\n",
       "      <th>1</th>\n",
       "      <td>-0.707195</td>\n",
       "      <td>-0.701538</td>\n",
       "      <td>-1.017057</td>\n",
       "      <td>-2.009151</td>\n",
       "      <td>-1.206584</td>\n",
       "      <td>-1.300913</td>\n",
       "      <td>-1.855615</td>\n",
       "      <td>-0.004802</td>\n",
       "      <td>-0.007554</td>\n",
       "      <td>1.348449</td>\n",
       "    </tr>\n",
       "    <tr>\n",
       "      <th>2</th>\n",
       "      <td>-0.707195</td>\n",
       "      <td>-0.701538</td>\n",
       "      <td>0.983229</td>\n",
       "      <td>-1.786702</td>\n",
       "      <td>-1.534192</td>\n",
       "      <td>-0.965457</td>\n",
       "      <td>-0.669876</td>\n",
       "      <td>1.410294</td>\n",
       "      <td>-0.007554</td>\n",
       "      <td>-1.346251</td>\n",
       "    </tr>\n",
       "    <tr>\n",
       "      <th>3</th>\n",
       "      <td>-0.707195</td>\n",
       "      <td>-0.701538</td>\n",
       "      <td>-1.017057</td>\n",
       "      <td>0.823976</td>\n",
       "      <td>0.700991</td>\n",
       "      <td>-0.098335</td>\n",
       "      <td>0.288285</td>\n",
       "      <td>-0.004802</td>\n",
       "      <td>1.215747</td>\n",
       "      <td>0.450216</td>\n",
       "    </tr>\n",
       "    <tr>\n",
       "      <th>4</th>\n",
       "      <td>-0.707195</td>\n",
       "      <td>-0.701538</td>\n",
       "      <td>-1.017057</td>\n",
       "      <td>0.796750</td>\n",
       "      <td>1.268130</td>\n",
       "      <td>-0.269228</td>\n",
       "      <td>0.163701</td>\n",
       "      <td>-0.004802</td>\n",
       "      <td>-0.007554</td>\n",
       "      <td>2.246683</td>\n",
       "    </tr>\n",
       "  </tbody>\n",
       "</table>\n",
       "</div>"
      ],
      "text/plain": [
       "          0         1         2         3         4         5         6  \\\n",
       "0 -0.707195 -0.701538 -1.017057  0.627343 -0.171386  1.351088  0.955242   \n",
       "1 -0.707195 -0.701538 -1.017057 -2.009151 -1.206584 -1.300913 -1.855615   \n",
       "2 -0.707195 -0.701538  0.983229 -1.786702 -1.534192 -0.965457 -0.669876   \n",
       "3 -0.707195 -0.701538 -1.017057  0.823976  0.700991 -0.098335  0.288285   \n",
       "4 -0.707195 -0.701538 -1.017057  0.796750  1.268130 -0.269228  0.163701   \n",
       "\n",
       "          7         8         9  \n",
       "0  1.410294  1.215747  0.450216  \n",
       "1 -0.004802 -0.007554  1.348449  \n",
       "2  1.410294 -0.007554 -1.346251  \n",
       "3 -0.004802  1.215747  0.450216  \n",
       "4 -0.004802 -0.007554  2.246683  "
      ]
     },
     "execution_count": 212,
     "metadata": {},
     "output_type": "execute_result"
    }
   ],
   "source": [
    "X.head()"
   ]
  },
  {
   "cell_type": "code",
   "execution_count": 259,
   "metadata": {},
   "outputs": [],
   "source": [
    "X_original = X\n",
    "y_original = y"
   ]
  },
  {
   "cell_type": "code",
   "execution_count": 260,
   "metadata": {},
   "outputs": [],
   "source": [
    "X_o_train, X_o_test, y_o_train, y_o_test = train_test_split(X_original, y_original, test_size=0.4, random_state=100)"
   ]
  },
  {
   "cell_type": "code",
   "execution_count": 261,
   "metadata": {},
   "outputs": [
    {
     "data": {
      "text/plain": [
       "1    16953\n",
       "0    16953\n",
       "Name: 10, dtype: int64"
      ]
     },
     "execution_count": 261,
     "metadata": {},
     "output_type": "execute_result"
    }
   ],
   "source": [
    "from imblearn.over_sampling import SMOTE\n",
    "smote = SMOTE()\n",
    "X, y = smote.fit_sample(X, y)\n",
    "y.value_counts()"
   ]
  },
  {
   "cell_type": "code",
   "execution_count": 213,
   "metadata": {},
   "outputs": [],
   "source": [
    "from sklearn.model_selection import train_test_split\n",
    "from sklearn import linear_model\n",
    "from sklearn.metrics import r2_score"
   ]
  },
  {
   "cell_type": "code",
   "execution_count": 243,
   "metadata": {},
   "outputs": [],
   "source": [
    "X_train, X_test, y_train, y_test = train_test_split(X, y, test_size=0.4, random_state=100)"
   ]
  },
  {
   "cell_type": "code",
   "execution_count": 244,
   "metadata": {},
   "outputs": [
    {
     "data": {
      "text/plain": [
       "10 \n",
       "Yes    10227\n",
       "No     10116\n",
       "dtype: int64"
      ]
     },
     "execution_count": 244,
     "metadata": {},
     "output_type": "execute_result"
    }
   ],
   "source": [
    "y_train.value_counts()"
   ]
  },
  {
   "cell_type": "code",
   "execution_count": 216,
   "metadata": {},
   "outputs": [
    {
     "data": {
      "text/plain": [
       "10 \n",
       "Yes    10191\n",
       "No     10191\n",
       "dtype: int64"
      ]
     },
     "execution_count": 216,
     "metadata": {},
     "output_type": "execute_result"
    }
   ],
   "source": [
    "#from imblearn.over_sampling import SMOTE\n",
    "#smote = SMOTE()\n",
    "#X_train, y_train = smote.fit_sample(X_train, y_train)\n",
    "#y_train.value_counts()"
   ]
  },
  {
   "cell_type": "code",
   "execution_count": null,
   "metadata": {},
   "outputs": [],
   "source": [
    "#from imblearn.over_sampling import RandomOverSampler\n",
    "#ros = RandomOverSampler(random_state=42)\n",
    " #fit predictor and target variable\n",
    "#X_train, y_train = ros.fit_resample(X_train, y_train)\n",
    "#y_train.value_counts()"
   ]
  },
  {
   "cell_type": "code",
   "execution_count": null,
   "metadata": {},
   "outputs": [],
   "source": [
    "# oversampling with RandomOverSampler\n",
    "#from imblearn.over_sampling import RandomOverSampler\n",
    "#ros = RandomOverSampler()\n",
    "#X_train, y_train = ros.fit_sample(X_train, y_train)"
   ]
  },
  {
   "cell_type": "code",
   "execution_count": 217,
   "metadata": {},
   "outputs": [
    {
     "data": {
      "text/plain": [
       "10 \n",
       "Yes    10191\n",
       "No     10191\n",
       "dtype: int64"
      ]
     },
     "execution_count": 217,
     "metadata": {},
     "output_type": "execute_result"
    }
   ],
   "source": [
    "y_train.value_counts()"
   ]
  },
  {
   "cell_type": "code",
   "execution_count": 245,
   "metadata": {},
   "outputs": [
    {
     "name": "stdout",
     "output_type": "stream",
     "text": [
      "0.7010985770109858\n"
     ]
    }
   ],
   "source": [
    "from sklearn.linear_model import LogisticRegression\n",
    "from sklearn.metrics import r2_score\n",
    "import math\n",
    "from sklearn.metrics import mean_absolute_error\n",
    "from sklearn.metrics import mean_squared_error\n",
    "model = LogisticRegression(random_state=0, solver='lbfgs', multi_class='multinomial')\n",
    "model.fit(X_train, y_train)\n",
    "print(model.score(X_test, y_test))\n",
    "predictions = model.predict(X_test)\n",
    "# r_squared = r2_score(y_test, predictions)\n",
    "# mse = mean_squared_error(y_test, predictions)\n",
    "# rmse = math.sqrt(mse)\n",
    "# mae = mean_absolute_error(y_test, predictions)"
   ]
  },
  {
   "cell_type": "code",
   "execution_count": 246,
   "metadata": {},
   "outputs": [
    {
     "name": "stdout",
     "output_type": "stream",
     "text": [
      "0.8866769888667699\n"
     ]
    }
   ],
   "source": [
    "from sklearn.neighbors import KNeighborsClassifier\n",
    "model = KNeighborsClassifier(n_neighbors=5, weights = 'distance')\n",
    "model.fit(X_train, y_train)\n",
    "print(model.score(X_test, y_test))\n",
    "predictions = model.predict(X_test)\n",
    "# r_squared = r2_score(y_test, predictions)\n",
    "# mse = mean_squared_error(y_test, predictions)\n",
    "# rmse = math.sqrt(mse)\n",
    "# mae = mean_absolute_error(y_test, predictions)"
   ]
  },
  {
   "cell_type": "code",
   "execution_count": null,
   "metadata": {},
   "outputs": [],
   "source": [
    "#scores = []\n",
    "#for i in range(1,40,1):\n",
    "   # model = KNeighborsClassifier(n_neighbors=i, weights = 'distance')\n",
    "    #model.fit(X_train, y_train)\n",
    "   # scores.append(model.score(X_test, y_test))"
   ]
  },
  {
   "cell_type": "code",
   "execution_count": null,
   "metadata": {},
   "outputs": [],
   "source": [
    "plt.figure(figsize=(10,6))\n",
    "plt.plot(range(1,40,1),scores,color = 'blue',linestyle='dashed', \n",
    "         marker='o',markerfacecolor='red', markersize=10)\n",
    "plt.title('accuracy scores vs. K Value')\n",
    "plt.xlabel('K')\n",
    "plt.ylabel('Accuracy')"
   ]
  },
  {
   "cell_type": "code",
   "execution_count": 230,
   "metadata": {},
   "outputs": [
    {
     "data": {
      "text/plain": [
       "array([[6682,   80],\n",
       "       [ 422,    7]], dtype=int64)"
      ]
     },
     "execution_count": 230,
     "metadata": {},
     "output_type": "execute_result"
    }
   ],
   "source": [
    "from sklearn.metrics import confusion_matrix\n",
    "confusion_matrix(y_test, predictions)"
   ]
  },
  {
   "cell_type": "code",
   "execution_count": 247,
   "metadata": {},
   "outputs": [
    {
     "name": "stdout",
     "output_type": "stream",
     "text": [
      "The accuracy of the model on test set is: 0.89 \n",
      "[[5449 1388]\n",
      " [ 149 6577]]\n"
     ]
    },
    {
     "data": {
      "image/png": "[encoded data removed]",
      "text/plain": [
       "<Figure size 432x288 with 2 Axes>"
      ]
     },
     "metadata": {
      "needs_background": "light"
     },
     "output_type": "display_data"
    },
    {
     "name": "stdout",
     "output_type": "stream",
     "text": [
      "The Kappa of your model is: 0.77\n"
     ]
    }
   ],
   "source": [
    "from sklearn.metrics import confusion_matrix\n",
    "from sklearn.metrics import plot_confusion_matrix\n",
    "from sklearn.metrics import cohen_kappa_score\n",
    "from sklearn.metrics import accuracy_score\n",
    "print(\"The accuracy of the model on test set is: %4.2f \" % accuracy_score(y_test, predictions))\n",
    "print(confusion_matrix(y_test, predictions))\n",
    "plot_confusion_matrix(model, X_test, y_test, normalize='pred')  # doctest: +SKIP\n",
    "plt.show()  # doctest: +SKIP\n",
    "print(\"The Kappa of your model is: %4.2f\" % (cohen_kappa_score(y_test, predictions)))"
   ]
  },
  {
   "cell_type": "code",
   "execution_count": 248,
   "metadata": {},
   "outputs": [
    {
     "data": {
      "text/plain": [
       "DecisionTreeClassifier()"
      ]
     },
     "execution_count": 248,
     "metadata": {},
     "output_type": "execute_result"
    }
   ],
   "source": [
    "from sklearn.tree import DecisionTreeClassifier\n",
    "classifier = DecisionTreeClassifier()\n",
    "classifier.fit(X_train, y_train)"
   ]
  },
  {
   "cell_type": "code",
   "execution_count": 249,
   "metadata": {},
   "outputs": [
    {
     "name": "stdout",
     "output_type": "stream",
     "text": [
      "0.89677799896778\n"
     ]
    }
   ],
   "source": [
    "print(classifier.score(X_test, y_test))\n",
    "predictions = classifier.predict(X_test)"
   ]
  },
  {
   "cell_type": "code",
   "execution_count": 250,
   "metadata": {},
   "outputs": [
    {
     "name": "stdout",
     "output_type": "stream",
     "text": [
      "The accuracy of the model on test set is: 0.90 \n",
      "[[6043  794]\n",
      " [ 606 6120]]\n"
     ]
    },
    {
     "data": {
      "image/png": "[encoded data removed]",
      "text/plain": [
       "<Figure size 432x288 with 2 Axes>"
      ]
     },
     "metadata": {
      "needs_background": "light"
     },
     "output_type": "display_data"
    },
    {
     "name": "stdout",
     "output_type": "stream",
     "text": [
      "The Kappa of your model is: 0.79\n"
     ]
    }
   ],
   "source": [
    "print(\"The accuracy of the model on test set is: %4.2f \" % accuracy_score(y_test, predictions))\n",
    "print(confusion_matrix(y_test, predictions))\n",
    "plot_confusion_matrix(model, X_test, y_test, normalize='pred')  # doctest: +SKIP\n",
    "plt.show()  # doctest: +SKIP\n",
    "print(\"The Kappa of your model is: %4.2f\" % (cohen_kappa_score(y_test, predictions)))"
   ]
  },
  {
   "cell_type": "code",
   "execution_count": 251,
   "metadata": {},
   "outputs": [],
   "source": [
    "mapping = {\n",
    "        'Yes': 1,\n",
    "        'No': 0,\n",
    "    }\n",
    "y = y['10'].replace(mapping)"
   ]
  },
  {
   "cell_type": "code",
   "execution_count": 252,
   "metadata": {},
   "outputs": [],
   "source": [
    "X_train, X_test, y_train, y_test = train_test_split(X, y, test_size=0.4, random_state=100)"
   ]
  },
  {
   "cell_type": "code",
   "execution_count": 253,
   "metadata": {},
   "outputs": [
    {
     "name": "stdout",
     "output_type": "stream",
     "text": [
      "ROCAUC score: 0.9302972087256242\n",
      "Accuracy score: 0.9301039593010396\n",
      "F1 score: 0.9312046444121915\n"
     ]
    }
   ],
   "source": [
    "from sklearn.metrics import roc_auc_score \n",
    "from sklearn.metrics import f1_score\n",
    "# load library\n",
    "from sklearn.ensemble import RandomForestClassifier\n",
    "rfc = RandomForestClassifier()\n",
    "# fit the predictor and target\n",
    "rfc.fit(X_train, y_train)\n",
    "# predict\n",
    "rfc_predict = rfc.predict(X_test)# check performance\n",
    "print('ROCAUC score:',roc_auc_score(y_test, rfc_predict)) #should be as high as possible\n",
    "print('Accuracy score:',accuracy_score(y_test, rfc_predict)) #R2\n",
    "print('F1 score:',f1_score(y_test, rfc_predict)) #should be as high as possible"
   ]
  },
  {
   "cell_type": "code",
   "execution_count": 255,
   "metadata": {},
   "outputs": [
    {
     "name": "stdout",
     "output_type": "stream",
     "text": [
      "The accuracy of the model on test set is: 0.93 \n",
      "[[6199  638]\n",
      " [ 310 6416]]\n"
     ]
    },
    {
     "data": {
      "image/png": "[encoded data removed]",
      "text/plain": [
       "<Figure size 432x288 with 2 Axes>"
      ]
     },
     "metadata": {
      "needs_background": "light"
     },
     "output_type": "display_data"
    },
    {
     "name": "stdout",
     "output_type": "stream",
     "text": [
      "The Kappa of your model is: 0.86\n"
     ]
    }
   ],
   "source": [
    "print(\"The accuracy of the model on test set is: %4.2f \" % accuracy_score(y_test, rfc_predict))\n",
    "print(confusion_matrix(y_test, rfc_predict))\n",
    "plot_confusion_matrix(rfc, X_test, y_test, normalize='pred')  # doctest: +SKIP\n",
    "plt.show()  # doctest: +SKIP\n",
    "print(\"The Kappa of your model is: %4.2f\" % (cohen_kappa_score(y_test, rfc_predict)))"
   ]
  },
  {
   "cell_type": "code",
   "execution_count": 262,
   "metadata": {},
   "outputs": [
    {
     "data": {
      "text/plain": [
       "DecisionTreeClassifier()"
      ]
     },
     "execution_count": 262,
     "metadata": {},
     "output_type": "execute_result"
    }
   ],
   "source": [
    "from sklearn.tree import DecisionTreeClassifier\n",
    "classifier = DecisionTreeClassifier()\n",
    "classifier.fit(X_train, y_train)"
   ]
  },
  {
   "cell_type": "code",
   "execution_count": 263,
   "metadata": {},
   "outputs": [
    {
     "name": "stdout",
     "output_type": "stream",
     "text": [
      "0.8978839489788395\n"
     ]
    }
   ],
   "source": [
    "print(classifier.score(X_o_test, y_o_test))\n",
    "predictions = classifier.predict(X_o_test)"
   ]
  },
  {
   "cell_type": "code",
   "execution_count": 265,
   "metadata": {},
   "outputs": [
    {
     "name": "stdout",
     "output_type": "stream",
     "text": [
      "The accuracy of the model on test set is: 0.90 \n",
      "[[6072  765]\n",
      " [ 620 6106]]\n"
     ]
    },
    {
     "data": {
      "image/png": "[encoded data removed]",
      "text/plain": [
       "<Figure size 432x288 with 2 Axes>"
      ]
     },
     "metadata": {
      "needs_background": "light"
     },
     "output_type": "display_data"
    },
    {
     "name": "stdout",
     "output_type": "stream",
     "text": [
      "The Kappa of your model is: 0.80\n"
     ]
    }
   ],
   "source": [
    "print(\"The accuracy of the model on test set is: %4.2f \" % accuracy_score(y_o_test, predictions))\n",
    "print(confusion_matrix(y_o_test, predictions))\n",
    "plot_confusion_matrix(classifier, X_o_test, y_o_test, normalize='pred')  # doctest: +SKIP\n",
    "plt.show()  # doctest: +SKIP\n",
    "print(\"The Kappa of your model is: %4.2f\" % (cohen_kappa_score(y_o_test, predictions)))"
   ]
  },
  {
   "cell_type": "markdown",
   "metadata": {},
   "source": [
    "def firth_logit(X,y,num_iter=100,learning_rate=0.01):\n",
    "    #Initialize weights\n",
    "    weights = np.ones(X.shape[1])\n",
    "    print (weights)\n",
    "    #Define get_predictions function\n",
    "    def get_predictions(X,weights):\n",
    "        z = np.dot(X,weights)\n",
    "        print (z)\n",
    "        y_pred =  1/(1 + np.exp(-z))\n",
    "        print (y_pred)\n",
    "    #Perform gradient descent\n",
    "    for i in range(num_iter):\n",
    "        y_pred = get_predictions(X,weights)\n",
    "        print (y_pred)\n",
    "        #Calculate Fisher information matrix\n",
    "        Xt = X.transpose()\n",
    "        W = np.diag(y_pred*(1-y_pred))\n",
    "        I = np.linalg.multi_dot([Xt,W,X])\n",
    "        #Find diagonal of Hat Matrix\n",
    "        sqrtW = W**0.5\n",
    "        H = np.linalg.multi_dot([sqrtW,X,np.linalg.inv(I),Xt,sqrtW])\n",
    "        hat_diag = np.diag(H)\n",
    "        #Calculate U_star\n",
    "        U_star = np.matmul((y -y_pred + hat_diag*(0.5 - y_pred)),X)\n",
    "        #Update weights\n",
    "        weights += np.matmul(np.linalg.inv(I),U_star)*learning_rate\n",
    "        #Get final predictions\n",
    "    y_pred =  get_predictions(X,weights)\n",
    "    return y_pred"
   ]
  }
 ],
 "metadata": {
  "kernelspec": {
   "display_name": "Python 3",
   "language": "python",
   "name": "python3"
  },
  "language_info": {
   "codemirror_mode": {
    "name": "ipython",
    "version": 3
   },
   "file_extension": ".py",
   "mimetype": "text/x-python",
   "name": "python",
   "nbconvert_exporter": "python",
   "pygments_lexer": "ipython3",
   "version": "3.8.5"
  }
 },
 "nbformat": 4,
 "nbformat_minor": 4
}
