{
 "cells": [
  {
   "cell_type": "code",
   "execution_count": 913,
   "metadata": {},
   "outputs": [],
   "source": [
    "import pandas as pd\n",
    "import numpy as np\n",
    "import warnings\n",
    "warnings.filterwarnings('ignore')\n",
    "warnings.filterwarnings(\"ignore\", message=\"numpy.ufunc size changed\")\n",
    "import matplotlib.pyplot as plt\n",
    "import seaborn as sns\n",
    "%matplotlib inline\n",
    "pd.set_option('display.max_columns', None)\n",
    "import re\n",
    "from statsmodels.stats.outliers_influence import variance_inflation_factor\n",
    "from statsmodels.tools.tools import add_constant\n",
    "from scipy.stats import chi2_contingency"
   ]
  },
  {
   "cell_type": "markdown",
   "metadata": {},
   "source": [
    "Importing from cleaned data notebook"
   ]
  },
  {
   "cell_type": "code",
   "execution_count": 914,
   "metadata": {},
   "outputs": [],
   "source": [
    "data = pd.read_csv('data_clean.csv')"
   ]
  },
  {
   "cell_type": "code",
   "execution_count": 915,
   "metadata": {},
   "outputs": [
    {
     "data": {
      "text/html": [
       "<div>\n",
       "<style scoped>\n",
       "    .dataframe tbody tr th:only-of-type {\n",
       "        vertical-align: middle;\n",
       "    }\n",
       "\n",
       "    .dataframe tbody tr th {\n",
       "        vertical-align: top;\n",
       "    }\n",
       "\n",
       "    .dataframe thead th {\n",
       "        text-align: right;\n",
       "    }\n",
       "</style>\n",
       "<table border=\"1\" class=\"dataframe\">\n",
       "  <thead>\n",
       "    <tr style=\"text-align: right;\">\n",
       "      <th></th>\n",
       "      <th>offer_accepted</th>\n",
       "      <th>reward</th>\n",
       "      <th>mailer_type</th>\n",
       "      <th>income_level</th>\n",
       "      <th>bank_accounts_open</th>\n",
       "      <th>overdraft_protection</th>\n",
       "      <th>credit_rating</th>\n",
       "      <th>credit_cards_held</th>\n",
       "      <th>homes_owned</th>\n",
       "      <th>household_size</th>\n",
       "      <th>own_your_home</th>\n",
       "      <th>average_balance</th>\n",
       "      <th>q3_balance</th>\n",
       "      <th>range</th>\n",
       "      <th>max</th>\n",
       "      <th>min</th>\n",
       "    </tr>\n",
       "  </thead>\n",
       "  <tbody>\n",
       "    <tr>\n",
       "      <th>0</th>\n",
       "      <td>No</td>\n",
       "      <td>Air Miles</td>\n",
       "      <td>Letter</td>\n",
       "      <td>High</td>\n",
       "      <td>1</td>\n",
       "      <td>No</td>\n",
       "      <td>High</td>\n",
       "      <td>2</td>\n",
       "      <td>1</td>\n",
       "      <td>4</td>\n",
       "      <td>No</td>\n",
       "      <td>1160.75</td>\n",
       "      <td>1095.0</td>\n",
       "      <td>792.0</td>\n",
       "      <td>1669.0</td>\n",
       "      <td>877.0</td>\n",
       "    </tr>\n",
       "    <tr>\n",
       "      <th>1</th>\n",
       "      <td>No</td>\n",
       "      <td>Air Miles</td>\n",
       "      <td>Letter</td>\n",
       "      <td>Medium</td>\n",
       "      <td>1</td>\n",
       "      <td>No</td>\n",
       "      <td>Medium</td>\n",
       "      <td>2</td>\n",
       "      <td>2</td>\n",
       "      <td>5</td>\n",
       "      <td>Yes</td>\n",
       "      <td>147.25</td>\n",
       "      <td>78.0</td>\n",
       "      <td>327.0</td>\n",
       "      <td>366.0</td>\n",
       "      <td>39.0</td>\n",
       "    </tr>\n",
       "    <tr>\n",
       "      <th>2</th>\n",
       "      <td>No</td>\n",
       "      <td>Air Miles</td>\n",
       "      <td>Postcard</td>\n",
       "      <td>High</td>\n",
       "      <td>2</td>\n",
       "      <td>No</td>\n",
       "      <td>Medium</td>\n",
       "      <td>2</td>\n",
       "      <td>1</td>\n",
       "      <td>2</td>\n",
       "      <td>Yes</td>\n",
       "      <td>276.50</td>\n",
       "      <td>145.0</td>\n",
       "      <td>222.0</td>\n",
       "      <td>367.0</td>\n",
       "      <td>145.0</td>\n",
       "    </tr>\n",
       "    <tr>\n",
       "      <th>3</th>\n",
       "      <td>No</td>\n",
       "      <td>Air Miles</td>\n",
       "      <td>Letter</td>\n",
       "      <td>Medium</td>\n",
       "      <td>2</td>\n",
       "      <td>No</td>\n",
       "      <td>High</td>\n",
       "      <td>1</td>\n",
       "      <td>1</td>\n",
       "      <td>4</td>\n",
       "      <td>No</td>\n",
       "      <td>1219.00</td>\n",
       "      <td>1119.0</td>\n",
       "      <td>1341.0</td>\n",
       "      <td>1760.0</td>\n",
       "      <td>419.0</td>\n",
       "    </tr>\n",
       "    <tr>\n",
       "      <th>4</th>\n",
       "      <td>No</td>\n",
       "      <td>Air Miles</td>\n",
       "      <td>Letter</td>\n",
       "      <td>Medium</td>\n",
       "      <td>1</td>\n",
       "      <td>No</td>\n",
       "      <td>Medium</td>\n",
       "      <td>2</td>\n",
       "      <td>1</td>\n",
       "      <td>6</td>\n",
       "      <td>Yes</td>\n",
       "      <td>1211.00</td>\n",
       "      <td>982.0</td>\n",
       "      <td>1775.0</td>\n",
       "      <td>2140.0</td>\n",
       "      <td>365.0</td>\n",
       "    </tr>\n",
       "  </tbody>\n",
       "</table>\n",
       "</div>"
      ],
      "text/plain": [
       "  offer_accepted     reward mailer_type income_level  bank_accounts_open  \\\n",
       "0             No  Air Miles      Letter         High                   1   \n",
       "1             No  Air Miles      Letter       Medium                   1   \n",
       "2             No  Air Miles    Postcard         High                   2   \n",
       "3             No  Air Miles      Letter       Medium                   2   \n",
       "4             No  Air Miles      Letter       Medium                   1   \n",
       "\n",
       "  overdraft_protection credit_rating  credit_cards_held  homes_owned  \\\n",
       "0                   No          High                  2            1   \n",
       "1                   No        Medium                  2            2   \n",
       "2                   No        Medium                  2            1   \n",
       "3                   No          High                  1            1   \n",
       "4                   No        Medium                  2            1   \n",
       "\n",
       "   household_size own_your_home  average_balance  q3_balance   range     max  \\\n",
       "0               4            No          1160.75      1095.0   792.0  1669.0   \n",
       "1               5           Yes           147.25        78.0   327.0   366.0   \n",
       "2               2           Yes           276.50       145.0   222.0   367.0   \n",
       "3               4            No          1219.00      1119.0  1341.0  1760.0   \n",
       "4               6           Yes          1211.00       982.0  1775.0  2140.0   \n",
       "\n",
       "     min  \n",
       "0  877.0  \n",
       "1   39.0  \n",
       "2  145.0  \n",
       "3  419.0  \n",
       "4  365.0  "
      ]
     },
     "execution_count": 915,
     "metadata": {},
     "output_type": "execute_result"
    }
   ],
   "source": [
    "data.head()"
   ]
  },
  {
   "cell_type": "code",
   "execution_count": 916,
   "metadata": {},
   "outputs": [
    {
     "data": {
      "text/plain": [
       "(18000, 16)"
      ]
     },
     "execution_count": 916,
     "metadata": {},
     "output_type": "execute_result"
    }
   ],
   "source": [
    "data.shape"
   ]
  },
  {
   "cell_type": "code",
   "execution_count": 917,
   "metadata": {},
   "outputs": [
    {
     "data": {
      "text/plain": [
       "No     16977\n",
       "Yes     1023\n",
       "Name: offer_accepted, dtype: int64"
      ]
     },
     "execution_count": 917,
     "metadata": {},
     "output_type": "execute_result"
    }
   ],
   "source": [
    "data[\"offer_accepted\"].value_counts()"
   ]
  },
  {
   "cell_type": "markdown",
   "metadata": {},
   "source": [
    "Removing Outliers"
   ]
  },
  {
   "cell_type": "code",
   "execution_count": 918,
   "metadata": {},
   "outputs": [
    {
     "data": {
      "image/png": "[encoded data removed]",
      "text/plain": [
       "<Figure size 1440x1440 with 10 Axes>"
      ]
     },
     "metadata": {
      "needs_background": "light"
     },
     "output_type": "display_data"
    }
   ],
   "source": [
    "fig, ((ax1, ax2), (ax3, ax4), (ax5, ax6), (ax7, ax8), (ax9, ax10)) = plt.subplots(5,2,figsize = (20, 20)) \n",
    "plt.subplots_adjust(left=None, bottom=5, right=None, top=6, wspace=None, hspace=None) \n",
    "\n",
    "sns.histplot(data[\"average_balance\"], ax=ax1)\n",
    "sns.boxplot(data['average_balance'], ax=ax2)\n",
    "sns.histplot(data['q3_balance'], ax=ax3)\n",
    "sns.boxplot(data['q3_balance'], ax=ax4)\n",
    "sns.histplot(data['range'], ax=ax5)\n",
    "sns.boxplot(data['range'], ax=ax6)\n",
    "sns.histplot(data['min'], ax=ax7)\n",
    "sns.boxplot(data['min'], ax=ax8)\n",
    "sns.histplot(data['max'], ax=ax9)\n",
    "sns.boxplot(data['max'], ax=ax10)\n",
    "\n",
    "plt.show()\n",
    "\n"
   ]
  },
  {
   "cell_type": "code",
   "execution_count": 919,
   "metadata": {},
   "outputs": [],
   "source": [
    "#remove outliers from average balance\n",
    "iqr = np.percentile(data['average_balance'],75) - np.percentile(data['average_balance'],25)\n",
    "upper_limit = np.percentile(data['average_balance'],75) + 2*iqr\n",
    "lower_limit = np.percentile(data['average_balance'],25) - 2*iqr\n",
    "data =data[(data['average_balance']>lower_limit) & (data['average_balance']<upper_limit)]"
   ]
  },
  {
   "cell_type": "code",
   "execution_count": 920,
   "metadata": {},
   "outputs": [
    {
     "data": {
      "text/plain": [
       "<AxesSubplot:>"
      ]
     },
     "execution_count": 920,
     "metadata": {},
     "output_type": "execute_result"
    },
    {
     "data": {
      "image/png": "[encoded data removed]",
      "text/plain": [
       "<Figure size 432x288 with 1 Axes>"
      ]
     },
     "metadata": {
      "needs_background": "light"
     },
     "output_type": "display_data"
    }
   ],
   "source": [
    "data.boxplot(column=['average_balance'])"
   ]
  },
  {
   "cell_type": "code",
   "execution_count": 921,
   "metadata": {},
   "outputs": [],
   "source": [
    "#remove outliers from q3 balance\n",
    "iqr = np.percentile(data['q3_balance'],75) - np.percentile(data['q3_balance'],25)\n",
    "upper_limit = np.percentile(data['q3_balance'],75) + 1.5*iqr\n",
    "lower_limit = np.percentile(data['q3_balance'],25) - 1.5*iqr\n",
    "data =data[(data['q3_balance']>lower_limit) & (data['q3_balance']<upper_limit)]"
   ]
  },
  {
   "cell_type": "code",
   "execution_count": 922,
   "metadata": {},
   "outputs": [
    {
     "data": {
      "text/plain": [
       "<AxesSubplot:>"
      ]
     },
     "execution_count": 922,
     "metadata": {},
     "output_type": "execute_result"
    },
    {
     "data": {
      "image/png": "[encoded data removed]",
      "text/plain": [
       "<Figure size 432x288 with 1 Axes>"
      ]
     },
     "metadata": {
      "needs_background": "light"
     },
     "output_type": "display_data"
    }
   ],
   "source": [
    "data.boxplot(column=['q3_balance'])"
   ]
  },
  {
   "cell_type": "code",
   "execution_count": 923,
   "metadata": {},
   "outputs": [],
   "source": [
    "#remove outliers from range\n",
    "\n",
    "iqr = np.percentile(data['range'],75) - np.percentile(data['range'],25)\n",
    "upper_limit = np.percentile(data['range'],75) + 1.5*iqr\n",
    "lower_limit = np.percentile(data['range'],25) - 1.5*iqr\n",
    "data =data[(data['range']>lower_limit) & (data['range']<upper_limit)]"
   ]
  },
  {
   "cell_type": "code",
   "execution_count": 924,
   "metadata": {},
   "outputs": [
    {
     "data": {
      "text/plain": [
       "<AxesSubplot:>"
      ]
     },
     "execution_count": 924,
     "metadata": {},
     "output_type": "execute_result"
    },
    {
     "data": {
      "image/png": "[encoded data removed]",
      "text/plain": [
       "<Figure size 432x288 with 1 Axes>"
      ]
     },
     "metadata": {
      "needs_background": "light"
     },
     "output_type": "display_data"
    }
   ],
   "source": [
    "data.boxplot(column=['range'])"
   ]
  },
  {
   "cell_type": "code",
   "execution_count": 925,
   "metadata": {},
   "outputs": [],
   "source": [
    "#remove outliers from min\n",
    "iqr = np.percentile(data['min'],75) - np.percentile(data['min'],25)\n",
    "upper_limit = np.percentile(data['min'],75) + 2*iqr\n",
    "lower_limit = np.percentile(data['min'],25) - 2*iqr\n",
    "data =data[(data['min']>lower_limit) & (data['min']<upper_limit)]"
   ]
  },
  {
   "cell_type": "code",
   "execution_count": 926,
   "metadata": {},
   "outputs": [
    {
     "data": {
      "text/plain": [
       "<AxesSubplot:>"
      ]
     },
     "execution_count": 926,
     "metadata": {},
     "output_type": "execute_result"
    },
    {
     "data": {
      "image/png": "[encoded data removed]",
      "text/plain": [
       "<Figure size 432x288 with 1 Axes>"
      ]
     },
     "metadata": {
      "needs_background": "light"
     },
     "output_type": "display_data"
    }
   ],
   "source": [
    "data.boxplot(column=['min'])"
   ]
  },
  {
   "cell_type": "code",
   "execution_count": 927,
   "metadata": {},
   "outputs": [],
   "source": [
    "#remove outliers from max\n",
    "iqr = np.percentile(data['max'],75) - np.percentile(data['max'],25)\n",
    "upper_limit = np.percentile(data['max'],75) + 2*iqr\n",
    "lower_limit = np.percentile(data['max'],25) - 2*iqr\n",
    "data =data[(data['max']>lower_limit) & (data['max']<upper_limit)]"
   ]
  },
  {
   "cell_type": "code",
   "execution_count": 928,
   "metadata": {},
   "outputs": [
    {
     "data": {
      "text/plain": [
       "<AxesSubplot:>"
      ]
     },
     "execution_count": 928,
     "metadata": {},
     "output_type": "execute_result"
    },
    {
     "data": {
      "image/png": "[encoded data removed]",
      "text/plain": [
       "<Figure size 432x288 with 1 Axes>"
      ]
     },
     "metadata": {
      "needs_background": "light"
     },
     "output_type": "display_data"
    }
   ],
   "source": [
    "data.boxplot(column=['max'])"
   ]
  },
  {
   "cell_type": "code",
   "execution_count": 929,
   "metadata": {},
   "outputs": [
    {
     "data": {
      "text/plain": [
       "(17711, 16)"
      ]
     },
     "execution_count": 929,
     "metadata": {},
     "output_type": "execute_result"
    }
   ],
   "source": [
    "data.shape"
   ]
  },
  {
   "cell_type": "code",
   "execution_count": 930,
   "metadata": {},
   "outputs": [
    {
     "data": {
      "text/plain": [
       "No     16699\n",
       "Yes     1012\n",
       "Name: offer_accepted, dtype: int64"
      ]
     },
     "execution_count": 930,
     "metadata": {},
     "output_type": "execute_result"
    }
   ],
   "source": [
    "data[\"offer_accepted\"].value_counts()"
   ]
  },
  {
   "cell_type": "markdown",
   "metadata": {},
   "source": [
    "Splitting numericals and categoricals again"
   ]
  },
  {
   "cell_type": "code",
   "execution_count": 931,
   "metadata": {},
   "outputs": [],
   "source": [
    "cat_columns = []\n",
    "num_columns = []\n",
    "\n",
    "for i in data.columns:\n",
    "    if len(data[i].unique()) > 10:\n",
    "        num_columns.append(i)\n",
    "    else:\n",
    "        cat_columns.append(i)   \n",
    "\n",
    "num = data[num_columns]\n",
    "cat = data[cat_columns]"
   ]
  },
  {
   "cell_type": "markdown",
   "metadata": {},
   "source": [
    "Numericals - applying transformations, tested LOG transformation, BoxCox and Square Root"
   ]
  },
  {
   "cell_type": "code",
   "execution_count": 932,
   "metadata": {},
   "outputs": [],
   "source": [
    "def log_transform_clean(x):\n",
    "    if x>0:\n",
    "        return np.log(x)\n",
    "    else:\n",
    "        return 0  # in the code to be used with dataframe, we will use np.NaN here "
   ]
  },
  {
   "cell_type": "code",
   "execution_count": 933,
   "metadata": {},
   "outputs": [
    {
     "data": {
      "image/png": "[encoded data removed]",
      "text/plain": [
       "<Figure size 1440x360 with 3 Axes>"
      ]
     },
     "metadata": {
      "needs_background": "light"
     },
     "output_type": "display_data"
    }
   ],
   "source": [
    "#checking transformations of min\n",
    "\n",
    "num['min_sqrt'] = num['min']**(1/2)\n",
    "num[\"min_log\"] = list(map(log_transform_clean, num[\"min\"]))\n",
    "#min_bc, lmbda = stats.boxcox(data[\"min\"]) -can't do boxcox because some values = 0\n",
    "\n",
    "fig, (ax1, ax2, ax3) = plt.subplots(1, 3, figsize = (20,5)) \n",
    "plt.subplots_adjust(left=None, bottom=5, right=None, top=6, wspace=None, hspace=None) \n",
    "sns.histplot(num['min'], ax=ax1)\n",
    "sns.histplot(num['min_sqrt'], ax=ax2)\n",
    "sns.histplot(num[\"min_log\"], ax=ax3)\n",
    "#sns.displot(min_bc, ax=ax4)\n",
    "plt.show()"
   ]
  },
  {
   "cell_type": "code",
   "execution_count": 934,
   "metadata": {},
   "outputs": [
    {
     "data": {
      "image/png": "[encoded data removed]",
      "text/plain": [
       "<Figure size 1440x360 with 3 Axes>"
      ]
     },
     "metadata": {
      "needs_background": "light"
     },
     "output_type": "display_data"
    }
   ],
   "source": [
    "#checking transformations of q3 balance\n",
    "\n",
    "num['q3_sqrt'] = num['q3_balance']**(1/2)\n",
    "num[\"q3_log\"] = list(map(log_transform_clean, num[\"q3_balance\"]))\n",
    "#q3_bc, lmbda = stats.boxcox(data[\"q3_balance\"]) #can't do boxcox because some values < 0\n",
    "\n",
    "fig, (ax1, ax2, ax3) = plt.subplots(1, 3, figsize = (20,5)) \n",
    "plt.subplots_adjust(left=None, bottom=5, right=None, top=6, wspace=None, hspace=None) \n",
    "sns.histplot(num['q3_balance'], ax=ax1)\n",
    "sns.histplot(num['q3_sqrt'], ax=ax2)\n",
    "sns.histplot(num[\"q3_log\"], ax=ax3)\n",
    "#sns.displot(q3_bc, ax=ax4)\n",
    "\n",
    "plt.show()"
   ]
  },
  {
   "cell_type": "code",
   "execution_count": 935,
   "metadata": {},
   "outputs": [
    {
     "data": {
      "image/png": "[encoded data removed]",
      "text/plain": [
       "<Figure size 1440x1080 with 4 Axes>"
      ]
     },
     "metadata": {
      "needs_background": "light"
     },
     "output_type": "display_data"
    }
   ],
   "source": [
    "#checking transformations of average balance\n",
    "\n",
    "num['avg_sqrt'] = num['average_balance']**(1/2)\n",
    "num[\"avg_log\"] = list(map(log_transform_clean, num[\"average_balance\"]))\n",
    "avg_bc, lmbda = stats.boxcox(num[\"average_balance\"]) \n",
    "num[\"avg_bc\"]= avg_bc\n",
    "fig, ((ax1, ax2), (ax3, ax4)) = plt.subplots(2, 2, figsize = (20,15)) \n",
    "plt.subplots_adjust(left=None, bottom=5, right=None, top=6, wspace=None, hspace=None) \n",
    "sns.histplot(num['average_balance'], ax=ax1)\n",
    "sns.histplot(num['avg_sqrt'], ax=ax2)\n",
    "sns.histplot(num[\"avg_log\"], ax=ax3)\n",
    "sns.histplot(num[\"avg_bc\"], ax=ax4)\n",
    "\n",
    "plt.show()"
   ]
  },
  {
   "cell_type": "code",
   "execution_count": 936,
   "metadata": {},
   "outputs": [
    {
     "data": {
      "image/png": "[encoded data removed]",
      "text/plain": [
       "<Figure size 1440x1080 with 4 Axes>"
      ]
     },
     "metadata": {
      "needs_background": "light"
     },
     "output_type": "display_data"
    }
   ],
   "source": [
    "#checking transformations of range\n",
    "\n",
    "\n",
    "num['range_sqrt'] = num['range']**(1/2)\n",
    "num[\"range_log\"] = list(map(log_transform_clean, num[\"range\"]))\n",
    "rng_bc, lmbda = stats.boxcox(num[\"range\"]) \n",
    "num[\"range_bc\"] = rng_bc\n",
    "\n",
    "fig, ((ax1, ax2), (ax3, ax4)) = plt.subplots(2, 2, figsize = (20,15)) \n",
    "plt.subplots_adjust(left=None, bottom=5, right=None, top=6, wspace=None, hspace=None) \n",
    "sns.histplot(num['range'], ax=ax1)\n",
    "sns.histplot(num['range_sqrt'], ax=ax2)\n",
    "sns.histplot(num[\"range_log\"], ax=ax3)\n",
    "sns.histplot(num[\"range_bc\"], ax=ax4)\n",
    "plt.show()"
   ]
  },
  {
   "cell_type": "code",
   "execution_count": 937,
   "metadata": {},
   "outputs": [
    {
     "data": {
      "image/png": "[encoded data removed]",
      "text/plain": [
       "<Figure size 1440x1080 with 4 Axes>"
      ]
     },
     "metadata": {
      "needs_background": "light"
     },
     "output_type": "display_data"
    }
   ],
   "source": [
    "#checking transformations of max\n",
    "\n",
    "#calculate transformations\n",
    "num['max_sqrt'] = num['max']**(1/2)\n",
    "num[\"max_log\"] = list(map(log_transform_clean, num[\"max\"]))\n",
    "max_bc, lmbda = stats.boxcox(num[\"max\"]) \n",
    "num[\"max_bc\"] = max_bc\n",
    "\n",
    "#plot transformations\n",
    "fig, ((ax1, ax2), (ax3, ax4)) = plt.subplots(2, 2, figsize = (20,15)) \n",
    "plt.subplots_adjust(left=None, bottom=5, right=None, top=6, wspace=None, hspace=None) \n",
    "sns.histplot(num['max'], ax=ax1)\n",
    "sns.histplot(num['max_sqrt'], ax=ax2)\n",
    "sns.histplot(num[\"max_log\"], ax=ax3)\n",
    "sns.histplot(num[\"max_bc\"], ax=ax4)\n",
    "\n",
    "plt.show()"
   ]
  },
  {
   "cell_type": "code",
   "execution_count": 938,
   "metadata": {},
   "outputs": [
    {
     "data": {
      "text/html": [
       "<div>\n",
       "<style scoped>\n",
       "    .dataframe tbody tr th:only-of-type {\n",
       "        vertical-align: middle;\n",
       "    }\n",
       "\n",
       "    .dataframe tbody tr th {\n",
       "        vertical-align: top;\n",
       "    }\n",
       "\n",
       "    .dataframe thead th {\n",
       "        text-align: right;\n",
       "    }\n",
       "</style>\n",
       "<table border=\"1\" class=\"dataframe\">\n",
       "  <thead>\n",
       "    <tr style=\"text-align: right;\">\n",
       "      <th></th>\n",
       "      <th>average_balance</th>\n",
       "      <th>q3_balance</th>\n",
       "      <th>range</th>\n",
       "      <th>max</th>\n",
       "      <th>min</th>\n",
       "      <th>min_sqrt</th>\n",
       "      <th>min_log</th>\n",
       "      <th>q3_sqrt</th>\n",
       "      <th>q3_log</th>\n",
       "      <th>avg_sqrt</th>\n",
       "      <th>avg_log</th>\n",
       "      <th>avg_bc</th>\n",
       "      <th>range_sqrt</th>\n",
       "      <th>range_log</th>\n",
       "      <th>range_bc</th>\n",
       "      <th>max_sqrt</th>\n",
       "      <th>max_log</th>\n",
       "      <th>max_bc</th>\n",
       "    </tr>\n",
       "  </thead>\n",
       "  <tbody>\n",
       "    <tr>\n",
       "      <th>0</th>\n",
       "      <td>1160.75</td>\n",
       "      <td>1095.0</td>\n",
       "      <td>792.0</td>\n",
       "      <td>1669.0</td>\n",
       "      <td>877.0</td>\n",
       "      <td>29.614186</td>\n",
       "      <td>6.776507</td>\n",
       "      <td>33.090784</td>\n",
       "      <td>6.998510</td>\n",
       "      <td>34.069781</td>\n",
       "      <td>7.056822</td>\n",
       "      <td>40766.039813</td>\n",
       "      <td>28.142495</td>\n",
       "      <td>6.674561</td>\n",
       "      <td>179.791934</td>\n",
       "      <td>40.853396</td>\n",
       "      <td>7.419980</td>\n",
       "      <td>50381.652405</td>\n",
       "    </tr>\n",
       "    <tr>\n",
       "      <th>1</th>\n",
       "      <td>147.25</td>\n",
       "      <td>78.0</td>\n",
       "      <td>327.0</td>\n",
       "      <td>366.0</td>\n",
       "      <td>39.0</td>\n",
       "      <td>6.244998</td>\n",
       "      <td>3.663562</td>\n",
       "      <td>8.831761</td>\n",
       "      <td>4.356709</td>\n",
       "      <td>12.134661</td>\n",
       "      <td>4.992132</td>\n",
       "      <td>1599.879583</td>\n",
       "      <td>18.083141</td>\n",
       "      <td>5.789960</td>\n",
       "      <td>93.415532</td>\n",
       "      <td>19.131126</td>\n",
       "      <td>5.902633</td>\n",
       "      <td>5055.028925</td>\n",
       "    </tr>\n",
       "    <tr>\n",
       "      <th>2</th>\n",
       "      <td>276.50</td>\n",
       "      <td>145.0</td>\n",
       "      <td>222.0</td>\n",
       "      <td>367.0</td>\n",
       "      <td>145.0</td>\n",
       "      <td>12.041595</td>\n",
       "      <td>4.976734</td>\n",
       "      <td>12.041595</td>\n",
       "      <td>4.976734</td>\n",
       "      <td>16.628289</td>\n",
       "      <td>5.622211</td>\n",
       "      <td>4298.105300</td>\n",
       "      <td>14.899664</td>\n",
       "      <td>5.402677</td>\n",
       "      <td>70.010412</td>\n",
       "      <td>19.157244</td>\n",
       "      <td>5.905362</td>\n",
       "      <td>5075.974037</td>\n",
       "    </tr>\n",
       "    <tr>\n",
       "      <th>3</th>\n",
       "      <td>1219.00</td>\n",
       "      <td>1119.0</td>\n",
       "      <td>1341.0</td>\n",
       "      <td>1760.0</td>\n",
       "      <td>419.0</td>\n",
       "      <td>20.469489</td>\n",
       "      <td>6.037871</td>\n",
       "      <td>33.451457</td>\n",
       "      <td>7.020191</td>\n",
       "      <td>34.914181</td>\n",
       "      <td>7.105786</td>\n",
       "      <td>44019.351846</td>\n",
       "      <td>36.619667</td>\n",
       "      <td>7.201171</td>\n",
       "      <td>265.036036</td>\n",
       "      <td>41.952354</td>\n",
       "      <td>7.473069</td>\n",
       "      <td>54601.986795</td>\n",
       "    </tr>\n",
       "    <tr>\n",
       "      <th>4</th>\n",
       "      <td>1211.00</td>\n",
       "      <td>982.0</td>\n",
       "      <td>1775.0</td>\n",
       "      <td>2140.0</td>\n",
       "      <td>365.0</td>\n",
       "      <td>19.104973</td>\n",
       "      <td>5.899897</td>\n",
       "      <td>31.336879</td>\n",
       "      <td>6.889591</td>\n",
       "      <td>34.799425</td>\n",
       "      <td>7.099202</td>\n",
       "      <td>43567.199019</td>\n",
       "      <td>42.130749</td>\n",
       "      <td>7.481556</td>\n",
       "      <td>325.755988</td>\n",
       "      <td>46.260134</td>\n",
       "      <td>7.668561</td>\n",
       "      <td>73426.753062</td>\n",
       "    </tr>\n",
       "  </tbody>\n",
       "</table>\n",
       "</div>"
      ],
      "text/plain": [
       "   average_balance  q3_balance   range     max    min   min_sqrt   min_log  \\\n",
       "0          1160.75      1095.0   792.0  1669.0  877.0  29.614186  6.776507   \n",
       "1           147.25        78.0   327.0   366.0   39.0   6.244998  3.663562   \n",
       "2           276.50       145.0   222.0   367.0  145.0  12.041595  4.976734   \n",
       "3          1219.00      1119.0  1341.0  1760.0  419.0  20.469489  6.037871   \n",
       "4          1211.00       982.0  1775.0  2140.0  365.0  19.104973  5.899897   \n",
       "\n",
       "     q3_sqrt    q3_log   avg_sqrt   avg_log        avg_bc  range_sqrt  \\\n",
       "0  33.090784  6.998510  34.069781  7.056822  40766.039813   28.142495   \n",
       "1   8.831761  4.356709  12.134661  4.992132   1599.879583   18.083141   \n",
       "2  12.041595  4.976734  16.628289  5.622211   4298.105300   14.899664   \n",
       "3  33.451457  7.020191  34.914181  7.105786  44019.351846   36.619667   \n",
       "4  31.336879  6.889591  34.799425  7.099202  43567.199019   42.130749   \n",
       "\n",
       "   range_log    range_bc   max_sqrt   max_log        max_bc  \n",
       "0   6.674561  179.791934  40.853396  7.419980  50381.652405  \n",
       "1   5.789960   93.415532  19.131126  5.902633   5055.028925  \n",
       "2   5.402677   70.010412  19.157244  5.905362   5075.974037  \n",
       "3   7.201171  265.036036  41.952354  7.473069  54601.986795  \n",
       "4   7.481556  325.755988  46.260134  7.668561  73426.753062  "
      ]
     },
     "execution_count": 938,
     "metadata": {},
     "output_type": "execute_result"
    }
   ],
   "source": [
    "num.head()"
   ]
  },
  {
   "cell_type": "code",
   "execution_count": 939,
   "metadata": {},
   "outputs": [],
   "source": [
    "#choose which transformations to use\n",
    "num = num[[\"min_sqrt\", \"max_sqrt\", \"q3_sqrt\", \"avg_bc\",\"range_bc\"]] \n"
   ]
  },
  {
   "cell_type": "code",
   "execution_count": 940,
   "metadata": {},
   "outputs": [
    {
     "data": {
      "text/plain": [
       "(17711, 5)"
      ]
     },
     "execution_count": 940,
     "metadata": {},
     "output_type": "execute_result"
    }
   ],
   "source": [
    "num.shape"
   ]
  },
  {
   "cell_type": "markdown",
   "metadata": {},
   "source": [
    "Categorical Encoding"
   ]
  },
  {
   "cell_type": "code",
   "execution_count": 941,
   "metadata": {},
   "outputs": [
    {
     "data": {
      "text/html": [
       "<div>\n",
       "<style scoped>\n",
       "    .dataframe tbody tr th:only-of-type {\n",
       "        vertical-align: middle;\n",
       "    }\n",
       "\n",
       "    .dataframe tbody tr th {\n",
       "        vertical-align: top;\n",
       "    }\n",
       "\n",
       "    .dataframe thead th {\n",
       "        text-align: right;\n",
       "    }\n",
       "</style>\n",
       "<table border=\"1\" class=\"dataframe\">\n",
       "  <thead>\n",
       "    <tr style=\"text-align: right;\">\n",
       "      <th></th>\n",
       "      <th>offer_accepted</th>\n",
       "      <th>reward</th>\n",
       "      <th>mailer_type</th>\n",
       "      <th>income_level</th>\n",
       "      <th>bank_accounts_open</th>\n",
       "      <th>overdraft_protection</th>\n",
       "      <th>credit_rating</th>\n",
       "      <th>credit_cards_held</th>\n",
       "      <th>homes_owned</th>\n",
       "      <th>household_size</th>\n",
       "      <th>own_your_home</th>\n",
       "    </tr>\n",
       "  </thead>\n",
       "  <tbody>\n",
       "    <tr>\n",
       "      <th>0</th>\n",
       "      <td>No</td>\n",
       "      <td>Air Miles</td>\n",
       "      <td>Letter</td>\n",
       "      <td>High</td>\n",
       "      <td>1</td>\n",
       "      <td>No</td>\n",
       "      <td>High</td>\n",
       "      <td>2</td>\n",
       "      <td>1</td>\n",
       "      <td>4</td>\n",
       "      <td>No</td>\n",
       "    </tr>\n",
       "    <tr>\n",
       "      <th>1</th>\n",
       "      <td>No</td>\n",
       "      <td>Air Miles</td>\n",
       "      <td>Letter</td>\n",
       "      <td>Medium</td>\n",
       "      <td>1</td>\n",
       "      <td>No</td>\n",
       "      <td>Medium</td>\n",
       "      <td>2</td>\n",
       "      <td>2</td>\n",
       "      <td>5</td>\n",
       "      <td>Yes</td>\n",
       "    </tr>\n",
       "    <tr>\n",
       "      <th>2</th>\n",
       "      <td>No</td>\n",
       "      <td>Air Miles</td>\n",
       "      <td>Postcard</td>\n",
       "      <td>High</td>\n",
       "      <td>2</td>\n",
       "      <td>No</td>\n",
       "      <td>Medium</td>\n",
       "      <td>2</td>\n",
       "      <td>1</td>\n",
       "      <td>2</td>\n",
       "      <td>Yes</td>\n",
       "    </tr>\n",
       "    <tr>\n",
       "      <th>3</th>\n",
       "      <td>No</td>\n",
       "      <td>Air Miles</td>\n",
       "      <td>Letter</td>\n",
       "      <td>Medium</td>\n",
       "      <td>2</td>\n",
       "      <td>No</td>\n",
       "      <td>High</td>\n",
       "      <td>1</td>\n",
       "      <td>1</td>\n",
       "      <td>4</td>\n",
       "      <td>No</td>\n",
       "    </tr>\n",
       "    <tr>\n",
       "      <th>4</th>\n",
       "      <td>No</td>\n",
       "      <td>Air Miles</td>\n",
       "      <td>Letter</td>\n",
       "      <td>Medium</td>\n",
       "      <td>1</td>\n",
       "      <td>No</td>\n",
       "      <td>Medium</td>\n",
       "      <td>2</td>\n",
       "      <td>1</td>\n",
       "      <td>6</td>\n",
       "      <td>Yes</td>\n",
       "    </tr>\n",
       "  </tbody>\n",
       "</table>\n",
       "</div>"
      ],
      "text/plain": [
       "  offer_accepted     reward mailer_type income_level  bank_accounts_open  \\\n",
       "0             No  Air Miles      Letter         High                   1   \n",
       "1             No  Air Miles      Letter       Medium                   1   \n",
       "2             No  Air Miles    Postcard         High                   2   \n",
       "3             No  Air Miles      Letter       Medium                   2   \n",
       "4             No  Air Miles      Letter       Medium                   1   \n",
       "\n",
       "  overdraft_protection credit_rating  credit_cards_held  homes_owned  \\\n",
       "0                   No          High                  2            1   \n",
       "1                   No        Medium                  2            2   \n",
       "2                   No        Medium                  2            1   \n",
       "3                   No          High                  1            1   \n",
       "4                   No        Medium                  2            1   \n",
       "\n",
       "   household_size own_your_home  \n",
       "0               4            No  \n",
       "1               5           Yes  \n",
       "2               2           Yes  \n",
       "3               4            No  \n",
       "4               6           Yes  "
      ]
     },
     "execution_count": 941,
     "metadata": {},
     "output_type": "execute_result"
    }
   ],
   "source": [
    "cat.head()"
   ]
  },
  {
   "cell_type": "code",
   "execution_count": 942,
   "metadata": {},
   "outputs": [
    {
     "data": {
      "text/plain": [
       "(17711, 11)"
      ]
     },
     "execution_count": 942,
     "metadata": {},
     "output_type": "execute_result"
    }
   ],
   "source": [
    "cat.shape"
   ]
  },
  {
   "cell_type": "code",
   "execution_count": 943,
   "metadata": {},
   "outputs": [],
   "source": [
    "#ordinal encoding\n",
    "#cat[\"credit_rating\"]=cat[\"credit_rating\"].apply(lambda x : 3 if x == \"High\" else(2 if x == \"Medium\" else 1))\n",
    "#cat[\"income_level\"]=cat[\"income_level\"].apply(lambda x : 3 if x == \"High\" else(2 if x == \"Medium\" else 1))\n",
    "#cat[\"overdraft_protection\"] = cat[\"overdraft_protection\"].apply(lambda x : 1 if x == \"Yes\" else 0)\n",
    "#ord_cat = cat.select_dtypes(exclude = object)"
   ]
  },
  {
   "cell_type": "code",
   "execution_count": null,
   "metadata": {},
   "outputs": [],
   "source": []
  },
  {
   "cell_type": "code",
   "execution_count": 944,
   "metadata": {},
   "outputs": [],
   "source": [
    "#drop some features\n",
    "cat = cat.drop([\"bank_accounts_open\", \"overdraft_protection\", \"credit_cards_held\", \n",
    "                        \"homes_owned\"], axis = 1)\n"
   ]
  },
  {
   "cell_type": "code",
   "execution_count": 945,
   "metadata": {},
   "outputs": [
    {
     "data": {
      "text/html": [
       "<div>\n",
       "<style scoped>\n",
       "    .dataframe tbody tr th:only-of-type {\n",
       "        vertical-align: middle;\n",
       "    }\n",
       "\n",
       "    .dataframe tbody tr th {\n",
       "        vertical-align: top;\n",
       "    }\n",
       "\n",
       "    .dataframe thead th {\n",
       "        text-align: right;\n",
       "    }\n",
       "</style>\n",
       "<table border=\"1\" class=\"dataframe\">\n",
       "  <thead>\n",
       "    <tr style=\"text-align: right;\">\n",
       "      <th></th>\n",
       "      <th>offer_accepted</th>\n",
       "      <th>reward</th>\n",
       "      <th>mailer_type</th>\n",
       "      <th>income_level</th>\n",
       "      <th>credit_rating</th>\n",
       "      <th>household_size</th>\n",
       "      <th>own_your_home</th>\n",
       "    </tr>\n",
       "  </thead>\n",
       "  <tbody>\n",
       "    <tr>\n",
       "      <th>0</th>\n",
       "      <td>No</td>\n",
       "      <td>Air Miles</td>\n",
       "      <td>Letter</td>\n",
       "      <td>High</td>\n",
       "      <td>High</td>\n",
       "      <td>4</td>\n",
       "      <td>No</td>\n",
       "    </tr>\n",
       "    <tr>\n",
       "      <th>1</th>\n",
       "      <td>No</td>\n",
       "      <td>Air Miles</td>\n",
       "      <td>Letter</td>\n",
       "      <td>Medium</td>\n",
       "      <td>Medium</td>\n",
       "      <td>5</td>\n",
       "      <td>Yes</td>\n",
       "    </tr>\n",
       "    <tr>\n",
       "      <th>2</th>\n",
       "      <td>No</td>\n",
       "      <td>Air Miles</td>\n",
       "      <td>Postcard</td>\n",
       "      <td>High</td>\n",
       "      <td>Medium</td>\n",
       "      <td>2</td>\n",
       "      <td>Yes</td>\n",
       "    </tr>\n",
       "    <tr>\n",
       "      <th>3</th>\n",
       "      <td>No</td>\n",
       "      <td>Air Miles</td>\n",
       "      <td>Letter</td>\n",
       "      <td>Medium</td>\n",
       "      <td>High</td>\n",
       "      <td>4</td>\n",
       "      <td>No</td>\n",
       "    </tr>\n",
       "    <tr>\n",
       "      <th>4</th>\n",
       "      <td>No</td>\n",
       "      <td>Air Miles</td>\n",
       "      <td>Letter</td>\n",
       "      <td>Medium</td>\n",
       "      <td>Medium</td>\n",
       "      <td>6</td>\n",
       "      <td>Yes</td>\n",
       "    </tr>\n",
       "  </tbody>\n",
       "</table>\n",
       "</div>"
      ],
      "text/plain": [
       "  offer_accepted     reward mailer_type income_level credit_rating  \\\n",
       "0             No  Air Miles      Letter         High          High   \n",
       "1             No  Air Miles      Letter       Medium        Medium   \n",
       "2             No  Air Miles    Postcard         High        Medium   \n",
       "3             No  Air Miles      Letter       Medium          High   \n",
       "4             No  Air Miles      Letter       Medium        Medium   \n",
       "\n",
       "   household_size own_your_home  \n",
       "0               4            No  \n",
       "1               5           Yes  \n",
       "2               2           Yes  \n",
       "3               4            No  \n",
       "4               6           Yes  "
      ]
     },
     "execution_count": 945,
     "metadata": {},
     "output_type": "execute_result"
    }
   ],
   "source": [
    "cat.head()"
   ]
  },
  {
   "cell_type": "markdown",
   "metadata": {},
   "source": [
    "Encoding Nominal Categoricals - OneHot Encoder"
   ]
  },
  {
   "cell_type": "code",
   "execution_count": 946,
   "metadata": {},
   "outputs": [],
   "source": [
    "from sklearn.preprocessing import OneHotEncoder"
   ]
  },
  {
   "cell_type": "code",
   "execution_count": 956,
   "metadata": {},
   "outputs": [],
   "source": [
    "y = cat[\"offer_accepted\"]\n",
    "cat = cat.drop([\"offer_accepted\"], axis = 1)"
   ]
  },
  {
   "cell_type": "code",
   "execution_count": 957,
   "metadata": {},
   "outputs": [],
   "source": [
    "enc = OneHotEncoder(handle_unknown='error', drop='first')\n",
    "enc_cat = pd.DataFrame(enc.fit_transform(cat).toarray())\n"
   ]
  },
  {
   "cell_type": "markdown",
   "metadata": {},
   "source": [
    "concat with Scaled Numerical"
   ]
  },
  {
   "cell_type": "code",
   "execution_count": 958,
   "metadata": {},
   "outputs": [],
   "source": [
    "data_enc = pd.DataFrame(np.concatenate([enc_cat,num], axis =1))"
   ]
  },
  {
   "cell_type": "code",
   "execution_count": 959,
   "metadata": {},
   "outputs": [
    {
     "data": {
      "text/html": [
       "<div>\n",
       "<style scoped>\n",
       "    .dataframe tbody tr th:only-of-type {\n",
       "        vertical-align: middle;\n",
       "    }\n",
       "\n",
       "    .dataframe tbody tr th {\n",
       "        vertical-align: top;\n",
       "    }\n",
       "\n",
       "    .dataframe thead th {\n",
       "        text-align: right;\n",
       "    }\n",
       "</style>\n",
       "<table border=\"1\" class=\"dataframe\">\n",
       "  <thead>\n",
       "    <tr style=\"text-align: right;\">\n",
       "      <th></th>\n",
       "      <th>0</th>\n",
       "      <th>1</th>\n",
       "      <th>2</th>\n",
       "      <th>3</th>\n",
       "      <th>4</th>\n",
       "      <th>5</th>\n",
       "      <th>6</th>\n",
       "      <th>7</th>\n",
       "      <th>8</th>\n",
       "      <th>9</th>\n",
       "      <th>10</th>\n",
       "      <th>11</th>\n",
       "      <th>12</th>\n",
       "      <th>13</th>\n",
       "      <th>14</th>\n",
       "      <th>15</th>\n",
       "      <th>16</th>\n",
       "      <th>17</th>\n",
       "    </tr>\n",
       "  </thead>\n",
       "  <tbody>\n",
       "    <tr>\n",
       "      <th>0</th>\n",
       "      <td>0.0</td>\n",
       "      <td>0.0</td>\n",
       "      <td>0.0</td>\n",
       "      <td>0.0</td>\n",
       "      <td>0.0</td>\n",
       "      <td>0.0</td>\n",
       "      <td>0.0</td>\n",
       "      <td>0.0</td>\n",
       "      <td>0.0</td>\n",
       "      <td>1.0</td>\n",
       "      <td>0.0</td>\n",
       "      <td>0.0</td>\n",
       "      <td>0.0</td>\n",
       "      <td>29.614186</td>\n",
       "      <td>40.853396</td>\n",
       "      <td>33.090784</td>\n",
       "      <td>40766.039813</td>\n",
       "      <td>179.791934</td>\n",
       "    </tr>\n",
       "    <tr>\n",
       "      <th>1</th>\n",
       "      <td>0.0</td>\n",
       "      <td>0.0</td>\n",
       "      <td>0.0</td>\n",
       "      <td>0.0</td>\n",
       "      <td>1.0</td>\n",
       "      <td>0.0</td>\n",
       "      <td>1.0</td>\n",
       "      <td>0.0</td>\n",
       "      <td>0.0</td>\n",
       "      <td>0.0</td>\n",
       "      <td>1.0</td>\n",
       "      <td>0.0</td>\n",
       "      <td>1.0</td>\n",
       "      <td>6.244998</td>\n",
       "      <td>19.131126</td>\n",
       "      <td>8.831761</td>\n",
       "      <td>1599.879583</td>\n",
       "      <td>93.415532</td>\n",
       "    </tr>\n",
       "    <tr>\n",
       "      <th>2</th>\n",
       "      <td>0.0</td>\n",
       "      <td>0.0</td>\n",
       "      <td>1.0</td>\n",
       "      <td>0.0</td>\n",
       "      <td>0.0</td>\n",
       "      <td>0.0</td>\n",
       "      <td>1.0</td>\n",
       "      <td>1.0</td>\n",
       "      <td>0.0</td>\n",
       "      <td>0.0</td>\n",
       "      <td>0.0</td>\n",
       "      <td>0.0</td>\n",
       "      <td>1.0</td>\n",
       "      <td>12.041595</td>\n",
       "      <td>19.157244</td>\n",
       "      <td>12.041595</td>\n",
       "      <td>4298.105300</td>\n",
       "      <td>70.010412</td>\n",
       "    </tr>\n",
       "    <tr>\n",
       "      <th>3</th>\n",
       "      <td>0.0</td>\n",
       "      <td>0.0</td>\n",
       "      <td>0.0</td>\n",
       "      <td>0.0</td>\n",
       "      <td>1.0</td>\n",
       "      <td>0.0</td>\n",
       "      <td>0.0</td>\n",
       "      <td>0.0</td>\n",
       "      <td>0.0</td>\n",
       "      <td>1.0</td>\n",
       "      <td>0.0</td>\n",
       "      <td>0.0</td>\n",
       "      <td>0.0</td>\n",
       "      <td>20.469489</td>\n",
       "      <td>41.952354</td>\n",
       "      <td>33.451457</td>\n",
       "      <td>44019.351846</td>\n",
       "      <td>265.036036</td>\n",
       "    </tr>\n",
       "    <tr>\n",
       "      <th>4</th>\n",
       "      <td>0.0</td>\n",
       "      <td>0.0</td>\n",
       "      <td>0.0</td>\n",
       "      <td>0.0</td>\n",
       "      <td>1.0</td>\n",
       "      <td>0.0</td>\n",
       "      <td>1.0</td>\n",
       "      <td>0.0</td>\n",
       "      <td>0.0</td>\n",
       "      <td>0.0</td>\n",
       "      <td>0.0</td>\n",
       "      <td>1.0</td>\n",
       "      <td>1.0</td>\n",
       "      <td>19.104973</td>\n",
       "      <td>46.260134</td>\n",
       "      <td>31.336879</td>\n",
       "      <td>43567.199019</td>\n",
       "      <td>325.755988</td>\n",
       "    </tr>\n",
       "  </tbody>\n",
       "</table>\n",
       "</div>"
      ],
      "text/plain": [
       "    0    1    2    3    4    5    6    7    8    9    10   11   12         13  \\\n",
       "0  0.0  0.0  0.0  0.0  0.0  0.0  0.0  0.0  0.0  1.0  0.0  0.0  0.0  29.614186   \n",
       "1  0.0  0.0  0.0  0.0  1.0  0.0  1.0  0.0  0.0  0.0  1.0  0.0  1.0   6.244998   \n",
       "2  0.0  0.0  1.0  0.0  0.0  0.0  1.0  1.0  0.0  0.0  0.0  0.0  1.0  12.041595   \n",
       "3  0.0  0.0  0.0  0.0  1.0  0.0  0.0  0.0  0.0  1.0  0.0  0.0  0.0  20.469489   \n",
       "4  0.0  0.0  0.0  0.0  1.0  0.0  1.0  0.0  0.0  0.0  0.0  1.0  1.0  19.104973   \n",
       "\n",
       "          14         15            16          17  \n",
       "0  40.853396  33.090784  40766.039813  179.791934  \n",
       "1  19.131126   8.831761   1599.879583   93.415532  \n",
       "2  19.157244  12.041595   4298.105300   70.010412  \n",
       "3  41.952354  33.451457  44019.351846  265.036036  \n",
       "4  46.260134  31.336879  43567.199019  325.755988  "
      ]
     },
     "execution_count": 959,
     "metadata": {},
     "output_type": "execute_result"
    }
   ],
   "source": [
    "data_enc.head()"
   ]
  },
  {
   "cell_type": "code",
   "execution_count": 960,
   "metadata": {},
   "outputs": [
    {
     "data": {
      "text/plain": [
       "(17711, 18)"
      ]
     },
     "execution_count": 960,
     "metadata": {},
     "output_type": "execute_result"
    }
   ],
   "source": [
    "data_enc.shape"
   ]
  },
  {
   "cell_type": "code",
   "execution_count": 961,
   "metadata": {},
   "outputs": [
    {
     "name": "stdout",
     "output_type": "stream",
     "text": [
      "(17711, 18)\n"
     ]
    }
   ],
   "source": [
    "from sklearn.preprocessing import StandardScaler\n",
    "transformer = StandardScaler().fit(data_enc)\n",
    "x_standardized = transformer.transform(data_enc)\n",
    "print(x_standardized.shape)"
   ]
  },
  {
   "cell_type": "code",
   "execution_count": 962,
   "metadata": {},
   "outputs": [
    {
     "name": "stdout",
     "output_type": "stream",
     "text": [
      "(17711, 18)\n"
     ]
    }
   ],
   "source": [
    "from sklearn.preprocessing import Normalizer\n",
    "transformer = Normalizer().fit(data_enc)\n",
    "x_normalized = transformer.transform(data_enc)\n",
    "print(x_normalized.shape)"
   ]
  },
  {
   "cell_type": "code",
   "execution_count": 964,
   "metadata": {},
   "outputs": [],
   "source": [
    "X = x_standardized"
   ]
  },
  {
   "cell_type": "markdown",
   "metadata": {},
   "source": [
    "Concatenate X with y and export to csv"
   ]
  },
  {
   "cell_type": "code",
   "execution_count": 965,
   "metadata": {},
   "outputs": [],
   "source": [
    "data_preprocessed = pd.DataFrame(np.concatenate([X,pd.DataFrame(y)],axis=1))"
   ]
  },
  {
   "cell_type": "code",
   "execution_count": 966,
   "metadata": {},
   "outputs": [],
   "source": [
    "data_preprocessed.to_csv('data_preprocessed.csv', index=False)"
   ]
  }
 ],
 "metadata": {
  "kernelspec": {
   "display_name": "Python 3",
   "language": "python",
   "name": "python3"
  },
  "language_info": {
   "codemirror_mode": {
    "name": "ipython",
    "version": 3
   },
   "file_extension": ".py",
   "mimetype": "text/x-python",
   "name": "python",
   "nbconvert_exporter": "python",
   "pygments_lexer": "ipython3",
   "version": "3.8.5"
  }
 },
 "nbformat": 4,
 "nbformat_minor": 4
}
