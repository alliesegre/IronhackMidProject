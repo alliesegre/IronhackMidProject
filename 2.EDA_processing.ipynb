{
 "cells": [
  {
   "cell_type": "code",
   "execution_count": 830,
   "metadata": {},
   "outputs": [],
   "source": [
    "import pandas as pd\n",
    "import numpy as np\n",
    "import warnings\n",
    "warnings.filterwarnings('ignore')\n",
    "warnings.filterwarnings(\"ignore\", message=\"numpy.ufunc size changed\")\n",
    "import matplotlib.pyplot as plt\n",
    "import seaborn as sns\n",
    "%matplotlib inline\n",
    "pd.set_option('display.max_columns', None)\n",
    "import re\n",
    "from statsmodels.stats.outliers_influence import variance_inflation_factor\n",
    "from statsmodels.tools.tools import add_constant\n",
    "from scipy.stats import chi2_contingency"
   ]
  },
  {
   "cell_type": "markdown",
   "metadata": {},
   "source": [
    "Importing from cleaned data notebook"
   ]
  },
  {
   "cell_type": "code",
   "execution_count": 831,
   "metadata": {},
   "outputs": [],
   "source": [
    "data = pd.read_csv('data_clean.csv')"
   ]
  },
  {
   "cell_type": "code",
   "execution_count": 832,
   "metadata": {},
   "outputs": [
    {
     "data": {
      "text/html": [
       "<div>\n",
       "<style scoped>\n",
       "    .dataframe tbody tr th:only-of-type {\n",
       "        vertical-align: middle;\n",
       "    }\n",
       "\n",
       "    .dataframe tbody tr th {\n",
       "        vertical-align: top;\n",
       "    }\n",
       "\n",
       "    .dataframe thead th {\n",
       "        text-align: right;\n",
       "    }\n",
       "</style>\n",
       "<table border=\"1\" class=\"dataframe\">\n",
       "  <thead>\n",
       "    <tr style=\"text-align: right;\">\n",
       "      <th></th>\n",
       "      <th>offer_accepted</th>\n",
       "      <th>reward</th>\n",
       "      <th>mailer_type</th>\n",
       "      <th>income_level</th>\n",
       "      <th>bank_accounts_open</th>\n",
       "      <th>overdraft_protection</th>\n",
       "      <th>credit_rating</th>\n",
       "      <th>credit_cards_held</th>\n",
       "      <th>homes_owned</th>\n",
       "      <th>household_size</th>\n",
       "      <th>own_your_home</th>\n",
       "      <th>average_balance</th>\n",
       "      <th>q3_balance</th>\n",
       "      <th>range</th>\n",
       "      <th>max</th>\n",
       "      <th>min</th>\n",
       "    </tr>\n",
       "  </thead>\n",
       "  <tbody>\n",
       "    <tr>\n",
       "      <th>0</th>\n",
       "      <td>No</td>\n",
       "      <td>Air Miles</td>\n",
       "      <td>Letter</td>\n",
       "      <td>High</td>\n",
       "      <td>1</td>\n",
       "      <td>No</td>\n",
       "      <td>High</td>\n",
       "      <td>2</td>\n",
       "      <td>1</td>\n",
       "      <td>4</td>\n",
       "      <td>No</td>\n",
       "      <td>1160.75</td>\n",
       "      <td>1095.0</td>\n",
       "      <td>792.0</td>\n",
       "      <td>1669.0</td>\n",
       "      <td>877.0</td>\n",
       "    </tr>\n",
       "    <tr>\n",
       "      <th>1</th>\n",
       "      <td>No</td>\n",
       "      <td>Air Miles</td>\n",
       "      <td>Letter</td>\n",
       "      <td>Medium</td>\n",
       "      <td>1</td>\n",
       "      <td>No</td>\n",
       "      <td>Medium</td>\n",
       "      <td>2</td>\n",
       "      <td>2</td>\n",
       "      <td>5</td>\n",
       "      <td>Yes</td>\n",
       "      <td>147.25</td>\n",
       "      <td>78.0</td>\n",
       "      <td>327.0</td>\n",
       "      <td>366.0</td>\n",
       "      <td>39.0</td>\n",
       "    </tr>\n",
       "    <tr>\n",
       "      <th>2</th>\n",
       "      <td>No</td>\n",
       "      <td>Air Miles</td>\n",
       "      <td>Postcard</td>\n",
       "      <td>High</td>\n",
       "      <td>2</td>\n",
       "      <td>No</td>\n",
       "      <td>Medium</td>\n",
       "      <td>2</td>\n",
       "      <td>1</td>\n",
       "      <td>2</td>\n",
       "      <td>Yes</td>\n",
       "      <td>276.50</td>\n",
       "      <td>145.0</td>\n",
       "      <td>222.0</td>\n",
       "      <td>367.0</td>\n",
       "      <td>145.0</td>\n",
       "    </tr>\n",
       "    <tr>\n",
       "      <th>3</th>\n",
       "      <td>No</td>\n",
       "      <td>Air Miles</td>\n",
       "      <td>Letter</td>\n",
       "      <td>Medium</td>\n",
       "      <td>2</td>\n",
       "      <td>No</td>\n",
       "      <td>High</td>\n",
       "      <td>1</td>\n",
       "      <td>1</td>\n",
       "      <td>4</td>\n",
       "      <td>No</td>\n",
       "      <td>1219.00</td>\n",
       "      <td>1119.0</td>\n",
       "      <td>1341.0</td>\n",
       "      <td>1760.0</td>\n",
       "      <td>419.0</td>\n",
       "    </tr>\n",
       "    <tr>\n",
       "      <th>4</th>\n",
       "      <td>No</td>\n",
       "      <td>Air Miles</td>\n",
       "      <td>Letter</td>\n",
       "      <td>Medium</td>\n",
       "      <td>1</td>\n",
       "      <td>No</td>\n",
       "      <td>Medium</td>\n",
       "      <td>2</td>\n",
       "      <td>1</td>\n",
       "      <td>6</td>\n",
       "      <td>Yes</td>\n",
       "      <td>1211.00</td>\n",
       "      <td>982.0</td>\n",
       "      <td>1775.0</td>\n",
       "      <td>2140.0</td>\n",
       "      <td>365.0</td>\n",
       "    </tr>\n",
       "  </tbody>\n",
       "</table>\n",
       "</div>"
      ],
      "text/plain": [
       "  offer_accepted     reward mailer_type income_level  bank_accounts_open  \\\n",
       "0             No  Air Miles      Letter         High                   1   \n",
       "1             No  Air Miles      Letter       Medium                   1   \n",
       "2             No  Air Miles    Postcard         High                   2   \n",
       "3             No  Air Miles      Letter       Medium                   2   \n",
       "4             No  Air Miles      Letter       Medium                   1   \n",
       "\n",
       "  overdraft_protection credit_rating  credit_cards_held  homes_owned  \\\n",
       "0                   No          High                  2            1   \n",
       "1                   No        Medium                  2            2   \n",
       "2                   No        Medium                  2            1   \n",
       "3                   No          High                  1            1   \n",
       "4                   No        Medium                  2            1   \n",
       "\n",
       "   household_size own_your_home  average_balance  q3_balance   range     max  \\\n",
       "0               4            No          1160.75      1095.0   792.0  1669.0   \n",
       "1               5           Yes           147.25        78.0   327.0   366.0   \n",
       "2               2           Yes           276.50       145.0   222.0   367.0   \n",
       "3               4            No          1219.00      1119.0  1341.0  1760.0   \n",
       "4               6           Yes          1211.00       982.0  1775.0  2140.0   \n",
       "\n",
       "     min  \n",
       "0  877.0  \n",
       "1   39.0  \n",
       "2  145.0  \n",
       "3  419.0  \n",
       "4  365.0  "
      ]
     },
     "execution_count": 832,
     "metadata": {},
     "output_type": "execute_result"
    }
   ],
   "source": [
    "data.head()"
   ]
  },
  {
   "cell_type": "code",
   "execution_count": 833,
   "metadata": {},
   "outputs": [
    {
     "data": {
      "text/plain": [
       "(18000, 16)"
      ]
     },
     "execution_count": 833,
     "metadata": {},
     "output_type": "execute_result"
    }
   ],
   "source": [
    "data.shape"
   ]
  },
  {
   "cell_type": "code",
   "execution_count": 834,
   "metadata": {},
   "outputs": [
    {
     "data": {
      "text/plain": [
       "No     16977\n",
       "Yes     1023\n",
       "Name: offer_accepted, dtype: int64"
      ]
     },
     "execution_count": 834,
     "metadata": {},
     "output_type": "execute_result"
    }
   ],
   "source": [
    "data[\"offer_accepted\"].value_counts()"
   ]
  },
  {
   "cell_type": "markdown",
   "metadata": {},
   "source": [
    "Removing Outliers"
   ]
  },
  {
   "cell_type": "code",
   "execution_count": null,
   "metadata": {},
   "outputs": [],
   "source": []
  },
  {
   "cell_type": "code",
   "execution_count": null,
   "metadata": {},
   "outputs": [],
   "source": []
  },
  {
   "cell_type": "code",
   "execution_count": 836,
   "metadata": {},
   "outputs": [
    {
     "data": {
      "image/png": "[encoded data removed]",
      "text/plain": [
       "<Figure size 1440x1440 with 10 Axes>"
      ]
     },
     "metadata": {
      "needs_background": "light"
     },
     "output_type": "display_data"
    }
   ],
   "source": [
    "fig, ((ax1, ax2), (ax3, ax4), (ax5, ax6), (ax7, ax8), (ax9, ax10)) = plt.subplots(5,2,figsize = (20, 20)) \n",
    "plt.subplots_adjust(left=None, bottom=5, right=None, top=6, wspace=None, hspace=None) \n",
    "\n",
    "sns.histplot(data[\"average_balance\"], ax=ax1)\n",
    "sns.boxplot(data['average_balance'], ax=ax2)\n",
    "sns.histplot(data['q3_balance'], ax=ax3)\n",
    "sns.boxplot(data['q3_balance'], ax=ax4)\n",
    "sns.histplot(data['range'], ax=ax5)\n",
    "sns.boxplot(data['range'], ax=ax6)\n",
    "sns.histplot(data['min'], ax=ax7)\n",
    "sns.boxplot(data['min'], ax=ax8)\n",
    "sns.histplot(data['max'], ax=ax9)\n",
    "sns.boxplot(data['max'], ax=ax10)\n",
    "\n",
    "plt.show()\n",
    "\n"
   ]
  },
  {
   "cell_type": "code",
   "execution_count": null,
   "metadata": {},
   "outputs": [],
   "source": [
    "iqr = np.percentile(data['average_balance'],75) - np.percentile(data['average_balance'],25)\n",
    "upper_limit = np.percentile(data['average_balance'],75) + 2*iqr\n",
    "lower_limit = np.percentile(data['average_balance'],25) - 2*iqr\n",
    "data =data[(data['average_balance']>lower_limit) & (data['average_balance']<upper_limit)]"
   ]
  },
  {
   "cell_type": "code",
   "execution_count": null,
   "metadata": {},
   "outputs": [],
   "source": [
    "data.boxplot(column=['average_balance'])"
   ]
  },
  {
   "cell_type": "code",
   "execution_count": null,
   "metadata": {},
   "outputs": [],
   "source": [
    "iqr = np.percentile(data['q3_balance'],75) - np.percentile(data['q3_balance'],25)\n",
    "upper_limit = np.percentile(data['q3_balance'],75) + 1.5*iqr\n",
    "lower_limit = np.percentile(data['q3_balance'],25) - 1.5*iqr\n",
    "data =data[(data['q3_balance']>lower_limit) & (data['q3_balance']<upper_limit)]"
   ]
  },
  {
   "cell_type": "code",
   "execution_count": null,
   "metadata": {},
   "outputs": [],
   "source": [
    "data.boxplot(column=['q3_balance'])"
   ]
  },
  {
   "cell_type": "code",
   "execution_count": null,
   "metadata": {},
   "outputs": [],
   "source": [
    "iqr = np.percentile(data['range'],75) - np.percentile(data['range'],25)\n",
    "upper_limit = np.percentile(data['range'],75) + 1.5*iqr\n",
    "lower_limit = np.percentile(data['range'],25) - 1.5*iqr\n",
    "data =data[(data['range']>lower_limit) & (data['range']<upper_limit)]"
   ]
  },
  {
   "cell_type": "code",
   "execution_count": null,
   "metadata": {},
   "outputs": [],
   "source": [
    "data.boxplot(column=['range'])"
   ]
  },
  {
   "cell_type": "code",
   "execution_count": null,
   "metadata": {},
   "outputs": [],
   "source": [
    "iqr = np.percentile(data['min'],75) - np.percentile(data['min'],25)\n",
    "upper_limit = np.percentile(data['min'],75) + 2*iqr\n",
    "lower_limit = np.percentile(data['min'],25) - 2*iqr\n",
    "data =data[(data['min']>lower_limit) & (data['min']<upper_limit)]"
   ]
  },
  {
   "cell_type": "code",
   "execution_count": null,
   "metadata": {},
   "outputs": [],
   "source": [
    "data.boxplot(column=['min'])"
   ]
  },
  {
   "cell_type": "code",
   "execution_count": 837,
   "metadata": {},
   "outputs": [],
   "source": [
    "iqr = np.percentile(data['max'],75) - np.percentile(data['max'],25)\n",
    "upper_limit = np.percentile(data['max'],75) + 2*iqr\n",
    "lower_limit = np.percentile(data['max'],25) - 2*iqr\n",
    "data =data[(data['max']>lower_limit) & (data['max']<upper_limit)]"
   ]
  },
  {
   "cell_type": "code",
   "execution_count": 838,
   "metadata": {},
   "outputs": [
    {
     "data": {
      "text/plain": [
       "<AxesSubplot:>"
      ]
     },
     "execution_count": 838,
     "metadata": {},
     "output_type": "execute_result"
    },
    {
     "data": {
      "image/png": "[encoded data removed]",
      "text/plain": [
       "<Figure size 432x288 with 1 Axes>"
      ]
     },
     "metadata": {
      "needs_background": "light"
     },
     "output_type": "display_data"
    }
   ],
   "source": [
    "data.boxplot(column=['min'])"
   ]
  },
  {
   "cell_type": "code",
   "execution_count": null,
   "metadata": {},
   "outputs": [],
   "source": [
    "data.shape"
   ]
  },
  {
   "cell_type": "code",
   "execution_count": null,
   "metadata": {},
   "outputs": [],
   "source": [
    "data[\"offer_accepted\"].value_counts()"
   ]
  },
  {
   "cell_type": "markdown",
   "metadata": {},
   "source": [
    "Splitting numericals and categoricals again"
   ]
  },
  {
   "cell_type": "code",
   "execution_count": null,
   "metadata": {},
   "outputs": [],
   "source": [
    "cat_columns = []\n",
    "num_columns = []\n",
    "\n",
    "for i in data.columns:\n",
    "    if len(data[i].unique()) > 10:\n",
    "        num_columns.append(i)\n",
    "    else:\n",
    "        cat_columns.append(i)   \n",
    "num = data[num_columns]\n",
    "cat = data[cat_columns]"
   ]
  },
  {
   "cell_type": "markdown",
   "metadata": {},
   "source": [
    "Numericals - applying transformations, tested LOG transformation, BoxCox and Square Root"
   ]
  },
  {
   "cell_type": "code",
   "execution_count": null,
   "metadata": {},
   "outputs": [],
   "source": [
    "def log_transform_clean(x):\n",
    "    if x>0:\n",
    "        return np.log(x)\n",
    "    else:\n",
    "        return 0  # in the code to be used with dataframe, we will use np.NaN here "
   ]
  },
  {
   "cell_type": "code",
   "execution_count": null,
   "metadata": {},
   "outputs": [],
   "source": [
    "#checking transformations of min\n",
    "\n",
    "num['min_sqrt'] = num['min']**(1/2)\n",
    "num[\"min_log\"] = list(map(log_transform_clean, num[\"min\"]))\n",
    "#min_bc, lmbda = stats.boxcox(data[\"min\"]) -can't do boxcox because some values = 0\n",
    "\n",
    "fig, (ax1, ax2, ax3) = plt.subplots(1, 3, figsize = (20,5)) \n",
    "plt.subplots_adjust(left=None, bottom=5, right=None, top=6, wspace=None, hspace=None) \n",
    "sns.histplot(num['min'], ax=ax1)\n",
    "sns.histplot(num['min_sqrt'], ax=ax2)\n",
    "sns.histplot(num[\"min_log\"], ax=ax3)\n",
    "#sns.displot(min_bc, ax=ax4)\n",
    "plt.show()"
   ]
  },
  {
   "cell_type": "code",
   "execution_count": null,
   "metadata": {},
   "outputs": [],
   "source": [
    "num['q3_sqrt'] = num['q3_balance']**(1/2)\n",
    "num[\"q3_log\"] = list(map(log_transform_clean, num[\"q3_balance\"]))\n",
    "#q3_bc, lmbda = stats.boxcox(data[\"q3_balance\"]) #can't do boxcox because some values < 0\n",
    "\n",
    "fig, (ax1, ax2, ax3) = plt.subplots(1, 3, figsize = (20,5)) \n",
    "plt.subplots_adjust(left=None, bottom=5, right=None, top=6, wspace=None, hspace=None) \n",
    "sns.histplot(num['q3_balance'], ax=ax1)\n",
    "sns.histplot(num['q3_sqrt'], ax=ax2)\n",
    "sns.histplot(num[\"q3_log\"], ax=ax3)\n",
    "#sns.displot(q3_bc, ax=ax4)\n",
    "\n",
    "plt.show()"
   ]
  },
  {
   "cell_type": "code",
   "execution_count": null,
   "metadata": {},
   "outputs": [],
   "source": [
    "num['avg_sqrt'] = num['average_balance']**(1/2)\n",
    "num[\"avg_log\"] = list(map(log_transform_clean, num[\"average_balance\"]))\n",
    "avg_bc, lmbda = stats.boxcox(num[\"average_balance\"]) \n",
    "\n",
    "fig, ((ax1, ax2), (ax3, ax4)) = plt.subplots(2, 2, figsize = (20,15)) \n",
    "plt.subplots_adjust(left=None, bottom=5, right=None, top=6, wspace=None, hspace=None) \n",
    "sns.histplot(num['average_balance'], ax=ax1)\n",
    "sns.histplot(num['avg_sqrt'], ax=ax2)\n",
    "sns.histplot(num[\"avg_log\"], ax=ax3)\n",
    "sns.histplot(avg_bc, ax=ax4)\n",
    "\n",
    "plt.show()"
   ]
  },
  {
   "cell_type": "code",
   "execution_count": null,
   "metadata": {},
   "outputs": [],
   "source": [
    "num['range_sqrt'] = num['range']**(1/2)\n",
    "num[\"range_log\"] = list(map(log_transform_clean, num[\"range\"]))\n",
    "rng_bc, lmbda = stats.boxcox(num[\"range\"]) \n",
    "\n",
    "fig, ((ax1, ax2), (ax3, ax4)) = plt.subplots(2, 2, figsize = (20,15)) \n",
    "plt.subplots_adjust(left=None, bottom=5, right=None, top=6, wspace=None, hspace=None) \n",
    "sns.histplot(num['range'], ax=ax1)\n",
    "sns.histplot(num['range_sqrt'], ax=ax2)\n",
    "sns.histplot(num[\"range_log\"], ax=ax3)\n",
    "sns.histplot(rng_bc, ax=ax4)\n",
    "\n",
    "plt.show()"
   ]
  },
  {
   "cell_type": "code",
   "execution_count": null,
   "metadata": {},
   "outputs": [],
   "source": [
    "num['max'] = num['max']**(1/2)\n",
    "num[\"max\"] = list(map(log_transform_clean, num[\"max\"]))\n",
    "max_bc, lmbda = stats.boxcox(num[\"max\"]) \n",
    "\n",
    "fig, ((ax1, ax2), (ax3, ax4)) = plt.subplots(2, 2, figsize = (20,15)) \n",
    "plt.subplots_adjust(left=None, bottom=5, right=None, top=6, wspace=None, hspace=None) \n",
    "sns.histplot(num['max'], ax=ax1)\n",
    "sns.histplot(num['max_sqrt'], ax=ax2)\n",
    "sns.histplot(num[\"max_log\"], ax=ax3)\n",
    "sns.histplot(max_bc, ax=ax4)\n",
    "\n",
    "plt.show()"
   ]
  },
  {
   "cell_type": "markdown",
   "metadata": {},
   "source": [
    "We keep square root for Range and BoxCox for Average Balance"
   ]
  },
  {
   "cell_type": "code",
   "execution_count": null,
   "metadata": {},
   "outputs": [],
   "source": [
    "num.head()"
   ]
  },
  {
   "cell_type": "markdown",
   "metadata": {},
   "source": [
    "Separate the ordinal categories from categorical"
   ]
  },
  {
   "cell_type": "code",
   "execution_count": null,
   "metadata": {},
   "outputs": [],
   "source": [
    "cat.head()"
   ]
  },
  {
   "cell_type": "code",
   "execution_count": null,
   "metadata": {},
   "outputs": [],
   "source": [
    "#cat[\"income_level\"]=cat[\"income_level\"].apply(lambda x : 3 if x == \"High\" else(2 if x == \"Medium\" else 1))"
   ]
  },
  {
   "cell_type": "code",
   "execution_count": null,
   "metadata": {},
   "outputs": [],
   "source": [
    "#cat[\"credit_rating\"]=cat[\"credit_rating\"].apply(lambda x : 3 if x == \"High\" else(2 if x == \"Medium\" else 1))"
   ]
  },
  {
   "cell_type": "code",
   "execution_count": null,
   "metadata": {},
   "outputs": [],
   "source": [
    "cat[\"own_your_home\"] = cat[\"own_your_home\"].apply(lambda x : 1 if x == \"Yes\" else 0)"
   ]
  },
  {
   "cell_type": "code",
   "execution_count": null,
   "metadata": {},
   "outputs": [],
   "source": [
    "cat[\"overdraft_protection\"] = cat[\"overdraft_protection\"].apply(lambda x : 1 if x == \"Yes\" else 0)"
   ]
  },
  {
   "cell_type": "code",
   "execution_count": null,
   "metadata": {},
   "outputs": [],
   "source": [
    "ord_cat = cat.select_dtypes(exclude = object)"
   ]
  },
  {
   "cell_type": "code",
   "execution_count": null,
   "metadata": {},
   "outputs": [],
   "source": [
    "ord_cat.head()"
   ]
  },
  {
   "cell_type": "code",
   "execution_count": null,
   "metadata": {},
   "outputs": [],
   "source": [
    "#drop some extra features\n",
    "ord_cat = ord_cat.drop([\"bank_accounts_open\", \"overdraft_protection\", \"credit_cards_held\", \n",
    "                        \"homes_owned\"], axis = 1)\n",
    "ord_cat = ord_cat.drop([\"household_size\"], axis = 1)"
   ]
  },
  {
   "cell_type": "code",
   "execution_count": null,
   "metadata": {},
   "outputs": [],
   "source": [
    "ord_cat.head()"
   ]
  },
  {
   "cell_type": "markdown",
   "metadata": {},
   "source": [
    "Encoding Nominal Categoricals - OneHot Encoder + concat with Scaled Numerical"
   ]
  },
  {
   "cell_type": "code",
   "execution_count": null,
   "metadata": {},
   "outputs": [],
   "source": [
    "from sklearn.preprocessing import OneHotEncoder"
   ]
  },
  {
   "cell_type": "code",
   "execution_count": null,
   "metadata": {},
   "outputs": [],
   "source": [
    "enc = OneHotEncoder(handle_unknown='error', drop='first')\n",
    "enc_cat = pd.DataFrame(enc.fit_transform(cat[['reward', 'mailer_type','income_level', 'credit_rating', \"household_size\"]]).toarray())\n"
   ]
  },
  {
   "cell_type": "code",
   "execution_count": null,
   "metadata": {},
   "outputs": [],
   "source": [
    "data_enc = pd.DataFrame(np.concatenate([enc_cat,num, ord_cat], axis =1))"
   ]
  },
  {
   "cell_type": "code",
   "execution_count": null,
   "metadata": {},
   "outputs": [],
   "source": [
    "data_enc.head()"
   ]
  },
  {
   "cell_type": "code",
   "execution_count": null,
   "metadata": {},
   "outputs": [],
   "source": [
    "data_enc.shape"
   ]
  },
  {
   "cell_type": "code",
   "execution_count": null,
   "metadata": {},
   "outputs": [],
   "source": [
    "from sklearn.preprocessing import StandardScaler\n",
    "transformer = StandardScaler().fit(data_enc)\n",
    "x_standardized = transformer.transform(data_enc)\n",
    "print(x_standardized.shape)"
   ]
  },
  {
   "cell_type": "code",
   "execution_count": null,
   "metadata": {},
   "outputs": [],
   "source": [
    "from sklearn.preprocessing import Normalizer\n",
    "transformer = Normalizer().fit(data_enc)\n",
    "x_normalized = transformer.transform(data_enc)\n",
    "print(x_normalized.shape)"
   ]
  },
  {
   "cell_type": "code",
   "execution_count": null,
   "metadata": {},
   "outputs": [],
   "source": [
    "y = data_clean_1['offer_accepted']\n",
    "X = x_standardized"
   ]
  },
  {
   "cell_type": "code",
   "execution_count": null,
   "metadata": {},
   "outputs": [],
   "source": [
    "data_preprocessed = pd.DataFrame(np.concatenate([X,pd.DataFrame(y)],axis=1))"
   ]
  },
  {
   "cell_type": "code",
   "execution_count": null,
   "metadata": {},
   "outputs": [],
   "source": [
    "data_preprocessed.to_csv('data_preprocessed.csv', index=False)"
   ]
  }
 ],
 "metadata": {
  "kernelspec": {
   "display_name": "Python 3",
   "language": "python",
   "name": "python3"
  },
  "language_info": {
   "codemirror_mode": {
    "name": "ipython",
    "version": 3
   },
   "file_extension": ".py",
   "mimetype": "text/x-python",
   "name": "python",
   "nbconvert_exporter": "python",
   "pygments_lexer": "ipython3",
   "version": "3.8.5"
  }
 },
 "nbformat": 4,
 "nbformat_minor": 4
}
