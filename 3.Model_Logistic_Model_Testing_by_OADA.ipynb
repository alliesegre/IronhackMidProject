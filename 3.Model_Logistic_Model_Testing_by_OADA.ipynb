{
 "cells": [
  {
   "cell_type": "code",
   "execution_count": 311,
   "metadata": {},
   "outputs": [],
   "source": [
    "import pandas as pd\n",
    "import numpy as np\n",
    "import warnings\n",
    "warnings.filterwarnings('ignore')\n",
    "warnings.filterwarnings(\"ignore\", message=\"numpy.ufunc size changed\")\n",
    "import matplotlib.pyplot as plt\n",
    "import seaborn as sns\n",
    "%matplotlib inline\n",
    "pd.set_option('display.max_columns', None)\n",
    "import re\n",
    "from statsmodels.stats.outliers_influence import variance_inflation_factor\n",
    "from statsmodels.tools.tools import add_constant\n",
    "from scipy.stats import chi2_contingency\n",
    "from sklearn.model_selection import train_test_split\n",
    "from sklearn import linear_model\n",
    "from sklearn.metrics import r2_score\n",
    "from sklearn.metrics import confusion_matrix\n",
    "from sklearn.metrics import plot_confusion_matrix\n",
    "from sklearn.metrics import cohen_kappa_score\n",
    "from sklearn.metrics import accuracy_score\n",
    "from sklearn.metrics import roc_auc_score\n",
    "from sklearn.metrics import f1_score\n",
    "from imblearn.over_sampling import SMOTE\n",
    "from sklearn.linear_model import LogisticRegression\n",
    "from sklearn.metrics import r2_score\n",
    "import math\n",
    "from sklearn.metrics import mean_absolute_error\n",
    "from sklearn.metrics import mean_squared_error\n",
    "from imblearn.over_sampling import ADASYN \n",
    "from imblearn.over_sampling import RandomOverSampler\n",
    "from sklearn.tree import DecisionTreeClassifier\n",
    "from sklearn.neighbors import KNeighborsClassifier\n",
    "from sklearn.naive_bayes import GaussianNB\n",
    "from sklearn.ensemble import RandomForestClassifier\n",
    "from sklearn.model_selection import KFold, cross_val_score\n",
    "from tqdm.notebook import tqdm"
   ]
  },
  {
   "cell_type": "code",
   "execution_count": 312,
   "metadata": {},
   "outputs": [],
   "source": [
    "def oversampler_choice_train(x):\n",
    "    global X_train, y_train\n",
    "    if x==\"ros\":\n",
    "        ros = RandomOverSampler()\n",
    "        X_train, y_train = ros.fit_sample(X_train, y_train)\n",
    "        print(\"Random Oversampler: \", y_train.value_counts())\n",
    "    elif x==\"smote\":\n",
    "        smote = SMOTE()\n",
    "        X_train, y_train = smote.fit_sample(X_train, y_train)\n",
    "        print(\"SMOTE: \", y_train.value_counts())\n",
    "    elif x == \"ada\":\n",
    "        ada = ADASYN(random_state=42)\n",
    "        X_train, y_train = ada.fit_sample(X_train, y_train)\n",
    "        print(\"ADASYN: \", y_train.value_counts())\n",
    "    else:\n",
    "        print (\"Input should be ros, smote or ada\")"
   ]
  },
  {
   "cell_type": "code",
   "execution_count": 313,
   "metadata": {},
   "outputs": [],
   "source": [
    "def model_predictions(x):\n",
    "    global X_train, X_test, y_train, y_test\n",
    "    if x == \"logistic\":\n",
    "        model = LogisticRegression(random_state=0, solver='lbfgs', multi_class='multinomial')\n",
    "        model.fit(X_train, y_train)\n",
    "        print(\"Logistic:\")\n",
    "        predictions =  model.predict(X_test)\n",
    "    elif x == \"knn\":\n",
    "        model = KNeighborsClassifier(n_neighbors=5, weights = 'distance')\n",
    "        model.fit(X_train, y_train)\n",
    "        print(\"KNN:\")\n",
    "        predictions = model.predict(X_test)\n",
    "    elif x==\"decision_tree\":\n",
    "        model = DecisionTreeClassifier()\n",
    "        model.fit(X_train, y_train)\n",
    "        print(\"Decision Tree:\")\n",
    "        predictions = model.predict(X_test)\n",
    "    elif x==\"random_forest\":\n",
    "        model = RandomForestClassifier()\n",
    "        model.fit(X_train, y_train)\n",
    "        print (\"Random Forest:\")\n",
    "        predictions = model.predict(X_test)\n",
    "    else:\n",
    "        print (\"Choose logistic, knn, decision_tree or random_forest\")   \n",
    "    \n",
    "    print(\"The accuracy of the model on test set is: \", accuracy_score(y_test, predictions))\n",
    "    print(\"Kappa: \", cohen_kappa_score(y_test, predictions))       \n",
    "    print(\"ROC-AUC score: \", roc_auc_score(y_test, predictions)) #should be as high as possible 0-1\n",
    "    print(\"Accuracy score: \", accuracy_score(y_test, predictions)) #percent correct 0-1\n",
    "    print(\"F1 score: \", f1_score(y_test, predictions)) #should be as high as possible 0-1      \n",
    "    print (\"R squared: \", r2_score(y_test, predictions))\n",
    "    print (\"MSE: \", mean_squared_error(y_test, predictions))\n",
    "    print (\"RMSE: \", math.sqrt(mean_squared_error(y_test, predictions)))\n",
    "    print (\"MAE: \", mean_absolute_error(y_test, predictions))\n",
    "    print (\"Confusion Matrix - raw:\")\n",
    "    plot_confusion_matrix(model, X_test, y_test, cmap = \"GnBu\")\n",
    "    plt.show() \n",
    "    print (\"Confusion Matrix - normalised:\")\n",
    "    plot_confusion_matrix(model, X_test, y_test, normalize='true', cmap = \"GnBu\")\n",
    "    plt.show() "
   ]
  },
  {
   "cell_type": "code",
   "execution_count": 314,
   "metadata": {},
   "outputs": [],
   "source": [
    "data = pd.read_csv('data_preprocessed.csv')"
   ]
  },
  {
   "cell_type": "code",
   "execution_count": 315,
   "metadata": {},
   "outputs": [
    {
     "data": {
      "text/html": [
       "<div>\n",
       "<style scoped>\n",
       "    .dataframe tbody tr th:only-of-type {\n",
       "        vertical-align: middle;\n",
       "    }\n",
       "\n",
       "    .dataframe tbody tr th {\n",
       "        vertical-align: top;\n",
       "    }\n",
       "\n",
       "    .dataframe thead th {\n",
       "        text-align: right;\n",
       "    }\n",
       "</style>\n",
       "<table border=\"1\" class=\"dataframe\">\n",
       "  <thead>\n",
       "    <tr style=\"text-align: right;\">\n",
       "      <th></th>\n",
       "      <th>0</th>\n",
       "      <th>1</th>\n",
       "      <th>2</th>\n",
       "      <th>3</th>\n",
       "      <th>4</th>\n",
       "      <th>5</th>\n",
       "      <th>6</th>\n",
       "      <th>7</th>\n",
       "      <th>8</th>\n",
       "      <th>9</th>\n",
       "      <th>10</th>\n",
       "    </tr>\n",
       "  </thead>\n",
       "  <tbody>\n",
       "    <tr>\n",
       "      <th>0</th>\n",
       "      <td>-0.707195</td>\n",
       "      <td>-0.701538</td>\n",
       "      <td>-1.017057</td>\n",
       "      <td>0.627343</td>\n",
       "      <td>-0.171386</td>\n",
       "      <td>1.351088</td>\n",
       "      <td>0.955242</td>\n",
       "      <td>1.410294</td>\n",
       "      <td>1.215747</td>\n",
       "      <td>0.450216</td>\n",
       "      <td>No</td>\n",
       "    </tr>\n",
       "    <tr>\n",
       "      <th>1</th>\n",
       "      <td>-0.707195</td>\n",
       "      <td>-0.701538</td>\n",
       "      <td>-1.017057</td>\n",
       "      <td>-2.009151</td>\n",
       "      <td>-1.206584</td>\n",
       "      <td>-1.300913</td>\n",
       "      <td>-1.855615</td>\n",
       "      <td>-0.004802</td>\n",
       "      <td>-0.007554</td>\n",
       "      <td>1.348449</td>\n",
       "      <td>No</td>\n",
       "    </tr>\n",
       "    <tr>\n",
       "      <th>2</th>\n",
       "      <td>-0.707195</td>\n",
       "      <td>-0.701538</td>\n",
       "      <td>0.983229</td>\n",
       "      <td>-1.786702</td>\n",
       "      <td>-1.534192</td>\n",
       "      <td>-0.965457</td>\n",
       "      <td>-0.669876</td>\n",
       "      <td>1.410294</td>\n",
       "      <td>-0.007554</td>\n",
       "      <td>-1.346251</td>\n",
       "      <td>No</td>\n",
       "    </tr>\n",
       "    <tr>\n",
       "      <th>3</th>\n",
       "      <td>-0.707195</td>\n",
       "      <td>-0.701538</td>\n",
       "      <td>-1.017057</td>\n",
       "      <td>0.823976</td>\n",
       "      <td>0.700991</td>\n",
       "      <td>-0.098335</td>\n",
       "      <td>0.288285</td>\n",
       "      <td>-0.004802</td>\n",
       "      <td>1.215747</td>\n",
       "      <td>0.450216</td>\n",
       "      <td>No</td>\n",
       "    </tr>\n",
       "    <tr>\n",
       "      <th>4</th>\n",
       "      <td>-0.707195</td>\n",
       "      <td>-0.701538</td>\n",
       "      <td>-1.017057</td>\n",
       "      <td>0.796750</td>\n",
       "      <td>1.268130</td>\n",
       "      <td>-0.269228</td>\n",
       "      <td>0.163701</td>\n",
       "      <td>-0.004802</td>\n",
       "      <td>-0.007554</td>\n",
       "      <td>2.246683</td>\n",
       "      <td>No</td>\n",
       "    </tr>\n",
       "  </tbody>\n",
       "</table>\n",
       "</div>"
      ],
      "text/plain": [
       "          0         1         2         3         4         5         6  \\\n",
       "0 -0.707195 -0.701538 -1.017057  0.627343 -0.171386  1.351088  0.955242   \n",
       "1 -0.707195 -0.701538 -1.017057 -2.009151 -1.206584 -1.300913 -1.855615   \n",
       "2 -0.707195 -0.701538  0.983229 -1.786702 -1.534192 -0.965457 -0.669876   \n",
       "3 -0.707195 -0.701538 -1.017057  0.823976  0.700991 -0.098335  0.288285   \n",
       "4 -0.707195 -0.701538 -1.017057  0.796750  1.268130 -0.269228  0.163701   \n",
       "\n",
       "          7         8         9  10  \n",
       "0  1.410294  1.215747  0.450216  No  \n",
       "1 -0.004802 -0.007554  1.348449  No  \n",
       "2  1.410294 -0.007554 -1.346251  No  \n",
       "3 -0.004802  1.215747  0.450216  No  \n",
       "4 -0.004802 -0.007554  2.246683  No  "
      ]
     },
     "execution_count": 315,
     "metadata": {},
     "output_type": "execute_result"
    }
   ],
   "source": [
    "data.head()"
   ]
  },
  {
   "cell_type": "code",
   "execution_count": 316,
   "metadata": {},
   "outputs": [],
   "source": [
    "y = pd.DataFrame(data['10'])\n",
    "X = data.drop(['10'],axis=1)"
   ]
  },
  {
   "cell_type": "code",
   "execution_count": 317,
   "metadata": {},
   "outputs": [],
   "source": [
    "mapping = {\n",
    "        'Yes': 1,\n",
    "        'No': 0,\n",
    "    }\n",
    "y = y['10'].replace(mapping)"
   ]
  },
  {
   "cell_type": "code",
   "execution_count": 318,
   "metadata": {},
   "outputs": [
    {
     "data": {
      "text/plain": [
       "0    0\n",
       "1    0\n",
       "2    0\n",
       "3    0\n",
       "4    0\n",
       "Name: 10, dtype: int64"
      ]
     },
     "execution_count": 318,
     "metadata": {},
     "output_type": "execute_result"
    }
   ],
   "source": [
    "y.head()"
   ]
  },
  {
   "cell_type": "code",
   "execution_count": 319,
   "metadata": {},
   "outputs": [
    {
     "data": {
      "text/html": [
       "<div>\n",
       "<style scoped>\n",
       "    .dataframe tbody tr th:only-of-type {\n",
       "        vertical-align: middle;\n",
       "    }\n",
       "\n",
       "    .dataframe tbody tr th {\n",
       "        vertical-align: top;\n",
       "    }\n",
       "\n",
       "    .dataframe thead th {\n",
       "        text-align: right;\n",
       "    }\n",
       "</style>\n",
       "<table border=\"1\" class=\"dataframe\">\n",
       "  <thead>\n",
       "    <tr style=\"text-align: right;\">\n",
       "      <th></th>\n",
       "      <th>0</th>\n",
       "      <th>1</th>\n",
       "      <th>2</th>\n",
       "      <th>3</th>\n",
       "      <th>4</th>\n",
       "      <th>5</th>\n",
       "      <th>6</th>\n",
       "      <th>7</th>\n",
       "      <th>8</th>\n",
       "      <th>9</th>\n",
       "    </tr>\n",
       "  </thead>\n",
       "  <tbody>\n",
       "    <tr>\n",
       "      <th>0</th>\n",
       "      <td>-0.707195</td>\n",
       "      <td>-0.701538</td>\n",
       "      <td>-1.017057</td>\n",
       "      <td>0.627343</td>\n",
       "      <td>-0.171386</td>\n",
       "      <td>1.351088</td>\n",
       "      <td>0.955242</td>\n",
       "      <td>1.410294</td>\n",
       "      <td>1.215747</td>\n",
       "      <td>0.450216</td>\n",
       "    </tr>\n",
       "    <tr>\n",
       "      <th>1</th>\n",
       "      <td>-0.707195</td>\n",
       "      <td>-0.701538</td>\n",
       "      <td>-1.017057</td>\n",
       "      <td>-2.009151</td>\n",
       "      <td>-1.206584</td>\n",
       "      <td>-1.300913</td>\n",
       "      <td>-1.855615</td>\n",
       "      <td>-0.004802</td>\n",
       "      <td>-0.007554</td>\n",
       "      <td>1.348449</td>\n",
       "    </tr>\n",
       "    <tr>\n",
       "      <th>2</th>\n",
       "      <td>-0.707195</td>\n",
       "      <td>-0.701538</td>\n",
       "      <td>0.983229</td>\n",
       "      <td>-1.786702</td>\n",
       "      <td>-1.534192</td>\n",
       "      <td>-0.965457</td>\n",
       "      <td>-0.669876</td>\n",
       "      <td>1.410294</td>\n",
       "      <td>-0.007554</td>\n",
       "      <td>-1.346251</td>\n",
       "    </tr>\n",
       "    <tr>\n",
       "      <th>3</th>\n",
       "      <td>-0.707195</td>\n",
       "      <td>-0.701538</td>\n",
       "      <td>-1.017057</td>\n",
       "      <td>0.823976</td>\n",
       "      <td>0.700991</td>\n",
       "      <td>-0.098335</td>\n",
       "      <td>0.288285</td>\n",
       "      <td>-0.004802</td>\n",
       "      <td>1.215747</td>\n",
       "      <td>0.450216</td>\n",
       "    </tr>\n",
       "    <tr>\n",
       "      <th>4</th>\n",
       "      <td>-0.707195</td>\n",
       "      <td>-0.701538</td>\n",
       "      <td>-1.017057</td>\n",
       "      <td>0.796750</td>\n",
       "      <td>1.268130</td>\n",
       "      <td>-0.269228</td>\n",
       "      <td>0.163701</td>\n",
       "      <td>-0.004802</td>\n",
       "      <td>-0.007554</td>\n",
       "      <td>2.246683</td>\n",
       "    </tr>\n",
       "  </tbody>\n",
       "</table>\n",
       "</div>"
      ],
      "text/plain": [
       "          0         1         2         3         4         5         6  \\\n",
       "0 -0.707195 -0.701538 -1.017057  0.627343 -0.171386  1.351088  0.955242   \n",
       "1 -0.707195 -0.701538 -1.017057 -2.009151 -1.206584 -1.300913 -1.855615   \n",
       "2 -0.707195 -0.701538  0.983229 -1.786702 -1.534192 -0.965457 -0.669876   \n",
       "3 -0.707195 -0.701538 -1.017057  0.823976  0.700991 -0.098335  0.288285   \n",
       "4 -0.707195 -0.701538 -1.017057  0.796750  1.268130 -0.269228  0.163701   \n",
       "\n",
       "          7         8         9  \n",
       "0  1.410294  1.215747  0.450216  \n",
       "1 -0.004802 -0.007554  1.348449  \n",
       "2  1.410294 -0.007554 -1.346251  \n",
       "3 -0.004802  1.215747  0.450216  \n",
       "4 -0.004802 -0.007554  2.246683  "
      ]
     },
     "execution_count": 319,
     "metadata": {},
     "output_type": "execute_result"
    }
   ],
   "source": [
    "X.head()"
   ]
  },
  {
   "cell_type": "code",
   "execution_count": 320,
   "metadata": {},
   "outputs": [],
   "source": [
    "#split into train/test data\n",
    "X_train, X_test, y_train, y_test = train_test_split(X, y, test_size=0.3, random_state=100)"
   ]
  },
  {
   "cell_type": "code",
   "execution_count": 321,
   "metadata": {},
   "outputs": [
    {
     "name": "stdout",
     "output_type": "stream",
     "text": [
      "y_test:\n",
      " 0    5064\n",
      "1     329\n",
      "Name: 10, dtype: int64\n",
      "y_train:\n",
      " 0    11889\n",
      "1      694\n",
      "Name: 10, dtype: int64\n"
     ]
    }
   ],
   "source": [
    "print(\"y_test:\\n\",y_test.value_counts())\n",
    "print(\"y_train:\\n\", y_train.value_counts())"
   ]
  },
  {
   "cell_type": "code",
   "execution_count": 322,
   "metadata": {},
   "outputs": [
    {
     "name": "stdout",
     "output_type": "stream",
     "text": [
      "SMOTE:  1    11889\n",
      "0    11889\n",
      "Name: 10, dtype: int64\n"
     ]
    }
   ],
   "source": [
    "oversampler_choice_train(\"smote\")"
   ]
  },
  {
   "cell_type": "code",
   "execution_count": 323,
   "metadata": {},
   "outputs": [
    {
     "name": "stdout",
     "output_type": "stream",
     "text": [
      "Random Forest:\n",
      "The accuracy of the model on test set is:  0.8994993510105692\n",
      "Kappa:  0.10755865431234835\n",
      "ROC-AUC score:  0.5528622687352646\n",
      "Accuracy score:  0.8994993510105692\n",
      "F1 score:  0.1609907120743034\n",
      "R squared:  -0.754446429171648\n",
      "MSE:  0.10050064898943074\n",
      "RMSE:  0.31701837326790816\n",
      "MAE:  0.10050064898943074\n",
      "Confusion Matrix - raw:\n"
     ]
    },
    {
     "data": {
      "image/png": "[encoded data removed]",
      "text/plain": [
       "<Figure size 432x288 with 2 Axes>"
      ]
     },
     "metadata": {
      "needs_background": "light"
     },
     "output_type": "display_data"
    },
    {
     "name": "stdout",
     "output_type": "stream",
     "text": [
      "Confusion Matrix - normalised:\n"
     ]
    },
    {
     "data": {
      "image/png": "[encoded data removed]",
      "text/plain": [
       "<Figure size 432x288 with 2 Axes>"
      ]
     },
     "metadata": {
      "needs_background": "light"
     },
     "output_type": "display_data"
    }
   ],
   "source": [
    "#choose which model to run. Logistic Regression: \"logistic\", K Nearest Neighbours: \"knn\", \n",
    "#Decision Tree: \"decision_tree\", Random Forest: \"random_forest\"\n",
    "\n",
    "model_predictions(\"random_forest\")"
   ]
  },
  {
   "cell_type": "markdown",
   "metadata": {},
   "source": [
    "def firth_logit(X,y,num_iter=100,learning_rate=0.01):\n",
    "    #Initialize weights\n",
    "    weights = np.ones(X.shape[1])\n",
    "    print (weights)\n",
    "    #Define get_predictions function\n",
    "    def get_predictions(X,weights):\n",
    "        z = np.dot(X,weights)\n",
    "        print (z)\n",
    "        y_pred =  1/(1 + np.exp(-z))\n",
    "        print (y_pred)\n",
    "    #Perform gradient descent\n",
    "    for i in range(num_iter):\n",
    "        y_pred = get_predictions(X,weights)\n",
    "        print (y_pred)\n",
    "        #Calculate Fisher information matrix\n",
    "        Xt = X.transpose()\n",
    "        W = np.diag(y_pred*(1-y_pred))\n",
    "        I = np.linalg.multi_dot([Xt,W,X])\n",
    "        #Find diagonal of Hat Matrix\n",
    "        sqrtW = W**0.5\n",
    "        H = np.linalg.multi_dot([sqrtW,X,np.linalg.inv(I),Xt,sqrtW])\n",
    "        hat_diag = np.diag(H)\n",
    "        #Calculate U_star\n",
    "        U_star = np.matmul((y -y_pred + hat_diag*(0.5 - y_pred)),X)\n",
    "        #Update weights\n",
    "        weights += np.matmul(np.linalg.inv(I),U_star)*learning_rate\n",
    "        #Get final predictions\n",
    "    y_pred =  get_predictions(X,weights)\n",
    "    return y_pred"
   ]
  },
  {
   "cell_type": "code",
   "execution_count": 324,
   "metadata": {},
   "outputs": [],
   "source": [
    "# import numpy as np\n",
    "# import matplotlib.pyplot as plt\n",
    "# from sklearn.datasets import make_blobs\n",
    "# from sklearn.ensemble import RandomForestClassifier\n",
    "\n",
    "\n",
    "# X, y = make_blobs(centers=[[0, 0], [1, 1]], random_state=61526, n_samples=50)\n",
    "\n",
    "# def plot_forest(max_depth=1):\n",
    "#     plt.figure()\n",
    "#     ax = plt.gca()\n",
    "#     h = 0.02\n",
    "\n",
    "#     x_min, x_max = X[:, 0].min() - .5, X[:, 0].max() + .5\n",
    "#     y_min, y_max = X[:, 1].min() - .5, X[:, 1].max() + .5\n",
    "#     xx, yy = np.meshgrid(np.arange(x_min, x_max, h), np.arange(y_min, y_max, h))\n",
    "\n",
    "#     if max_depth != 0:\n",
    "#         forest = RandomForestClassifier(n_estimators=20, max_depth=max_depth,\n",
    "#                                         random_state=1).fit(X, y)\n",
    "#         Z = forest.predict_proba(np.c_[xx.ravel(), yy.ravel()])[:, 1]\n",
    "#         Z = Z.reshape(xx.shape)\n",
    "#         ax.contourf(xx, yy, Z, alpha=.4)\n",
    "#         ax.set_title(\"max_depth = %d\" % max_depth)\n",
    "#     else:\n",
    "#         ax.set_title(\"data set\")\n",
    "#     ax.scatter(X[:, 0], X[:, 1], c=np.array(['b', 'r'])[y], s=60)\n",
    "#     ax.set_xlim(x_min, x_max)\n",
    "#     ax.set_ylim(y_min, y_max)\n",
    "#     ax.set_xticks(())\n",
    "#     ax.set_yticks(())\n",
    "\n",
    "\n",
    "# def plot_forest_interactive():\n",
    "#     from IPython.html.widgets import interactive, IntSlider\n",
    "#     slider = IntSlider(min=0, max=8, step=1, value=0)\n",
    "#     return interactive(plot_forest, max_depth=slider)\n",
    "\n",
    "# plot_forest_interactive()"
   ]
  },
  {
   "cell_type": "code",
   "execution_count": 325,
   "metadata": {},
   "outputs": [],
   "source": [
    "# import itertools\n",
    "\n",
    "# list_1=[\"normalizer\", \"standard_scaler\"]\n",
    "# list_5=[\"ordinal encoding\", \"no ordinal encoding\"]\n",
    "# list_4=[\"ADASYN\", \"SMOTE\", \"ros\"]\n",
    "# list_6=[\"knn\", \"\"]\n",
    "\n",
    "\n",
    "# for combination in itertools.product(list_1, list_2, list_3, list_4, list_5):\n",
    "#     print (combination)"
   ]
  },
  {
   "cell_type": "code",
   "execution_count": 326,
   "metadata": {},
   "outputs": [],
   "source": [
    "# #Kfold validation\n",
    "# models = []\n",
    "# models.append(('LR', LogisticRegression()))\n",
    "# models.append(('KNN', KNeighborsClassifier()))\n",
    "# models.append(('CART', DecisionTreeClassifier()))\n",
    "# models.append(('NB', GaussianNB()))\n",
    "# models.append(('RFC', RandomForestClassifier()))\n",
    "\n",
    "\n",
    "# results = []\n",
    "# names = []\n",
    "# scoring = 'accuracy'\n",
    "\n",
    "# for name, model in models:\n",
    "#     kfold = KFold(n_splits=10, random_state=7)\n",
    "#     cv_results = cross_val_score(model, X_train, y_train, cv=kfold, scoring=scoring)\n",
    "#     results.append(cv_results)\n",
    "#     names.append(name)\n",
    "#     msg = \"%s: %f (%f)\" % (name, cv_results.mean(), cv_results.std())\n",
    "#     print(msg)"
   ]
  }
 ],
 "metadata": {
  "kernelspec": {
   "display_name": "Python 3",
   "language": "python",
   "name": "python3"
  },
  "language_info": {
   "codemirror_mode": {
    "name": "ipython",
    "version": 3
   },
   "file_extension": ".py",
   "mimetype": "text/x-python",
   "name": "python",
   "nbconvert_exporter": "python",
   "pygments_lexer": "ipython3",
   "version": "3.8.5"
  }
 },
 "nbformat": 4,
 "nbformat_minor": 4
}
