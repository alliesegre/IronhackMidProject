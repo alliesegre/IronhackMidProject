{
 "cells": [
  {
   "cell_type": "code",
   "execution_count": 105,
   "metadata": {},
   "outputs": [],
   "source": [
    "import pandas as pd\n",
    "import numpy as np\n",
    "import warnings\n",
    "warnings.filterwarnings('ignore')\n",
    "warnings.filterwarnings(\"ignore\", message=\"numpy.ufunc size changed\")\n",
    "import matplotlib.pyplot as plt\n",
    "import seaborn as sns\n",
    "%matplotlib inline\n",
    "pd.set_option('display.max_columns', None)\n",
    "import re\n",
    "from statsmodels.stats.outliers_influence import variance_inflation_factor\n",
    "from statsmodels.tools.tools import add_constant\n",
    "from scipy.stats import chi2_contingency\n",
    "from sklearn.model_selection import train_test_split\n",
    "from sklearn import linear_model\n",
    "from sklearn.metrics import r2_score\n",
    "from sklearn.metrics import confusion_matrix\n",
    "from sklearn.metrics import plot_confusion_matrix\n",
    "from sklearn.metrics import cohen_kappa_score\n",
    "from sklearn.metrics import accuracy_score\n",
    "from imblearn.over_sampling import SMOTE\n",
    "from sklearn.linear_model import LogisticRegression\n",
    "from sklearn.metrics import r2_score\n",
    "import math\n",
    "from sklearn.metrics import mean_absolute_error\n",
    "from sklearn.metrics import mean_squared_error\n",
    "from imblearn.over_sampling import ADASYN \n",
    "from imblearn.over_sampling import RandomOverSampler\n",
    "from sklearn.tree import DecisionTreeClassifier\n",
    "from sklearn.neighbors import KNeighborsClassifier\n",
    "from sklearn.naive_bayes import GaussianNB\n",
    "from sklearn.ensemble import RandomForestClassifier\n",
    "from sklearn.model_selection import KFold, cross_val_score\n",
    "#from tqdm.notebook import tqdm"
   ]
  },
  {
   "cell_type": "code",
   "execution_count": 106,
   "metadata": {},
   "outputs": [],
   "source": [
    "data = pd.read_csv('data_preprocessed.csv')"
   ]
  },
  {
   "cell_type": "code",
   "execution_count": 107,
   "metadata": {},
   "outputs": [
    {
     "data": {
      "text/html": [
       "<div>\n",
       "<style scoped>\n",
       "    .dataframe tbody tr th:only-of-type {\n",
       "        vertical-align: middle;\n",
       "    }\n",
       "\n",
       "    .dataframe tbody tr th {\n",
       "        vertical-align: top;\n",
       "    }\n",
       "\n",
       "    .dataframe thead th {\n",
       "        text-align: right;\n",
       "    }\n",
       "</style>\n",
       "<table border=\"1\" class=\"dataframe\">\n",
       "  <thead>\n",
       "    <tr style=\"text-align: right;\">\n",
       "      <th></th>\n",
       "      <th>0</th>\n",
       "      <th>1</th>\n",
       "      <th>2</th>\n",
       "      <th>3</th>\n",
       "      <th>4</th>\n",
       "      <th>5</th>\n",
       "      <th>6</th>\n",
       "      <th>7</th>\n",
       "      <th>8</th>\n",
       "    </tr>\n",
       "  </thead>\n",
       "  <tbody>\n",
       "    <tr>\n",
       "      <th>0</th>\n",
       "      <td>-0.694779</td>\n",
       "      <td>-0.723093</td>\n",
       "      <td>-1.009129</td>\n",
       "      <td>-1.431771</td>\n",
       "      <td>0.354952</td>\n",
       "      <td>0.003363</td>\n",
       "      <td>0.00874</td>\n",
       "      <td>1.328773</td>\n",
       "      <td>No</td>\n",
       "    </tr>\n",
       "    <tr>\n",
       "      <th>1</th>\n",
       "      <td>-0.694779</td>\n",
       "      <td>-0.723093</td>\n",
       "      <td>0.990954</td>\n",
       "      <td>0.417145</td>\n",
       "      <td>-0.683660</td>\n",
       "      <td>1.421794</td>\n",
       "      <td>0.00874</td>\n",
       "      <td>-1.343201</td>\n",
       "      <td>No</td>\n",
       "    </tr>\n",
       "    <tr>\n",
       "      <th>2</th>\n",
       "      <td>-0.694779</td>\n",
       "      <td>-0.723093</td>\n",
       "      <td>-1.009129</td>\n",
       "      <td>0.516390</td>\n",
       "      <td>0.435589</td>\n",
       "      <td>0.003363</td>\n",
       "      <td>0.00874</td>\n",
       "      <td>-0.452543</td>\n",
       "      <td>No</td>\n",
       "    </tr>\n",
       "    <tr>\n",
       "      <th>3</th>\n",
       "      <td>1.439306</td>\n",
       "      <td>-0.723093</td>\n",
       "      <td>0.990954</td>\n",
       "      <td>0.444561</td>\n",
       "      <td>-0.294177</td>\n",
       "      <td>-1.415068</td>\n",
       "      <td>0.00874</td>\n",
       "      <td>0.438115</td>\n",
       "      <td>No</td>\n",
       "    </tr>\n",
       "    <tr>\n",
       "      <th>4</th>\n",
       "      <td>-0.694779</td>\n",
       "      <td>-0.723093</td>\n",
       "      <td>-1.009129</td>\n",
       "      <td>-1.063517</td>\n",
       "      <td>0.236492</td>\n",
       "      <td>1.421794</td>\n",
       "      <td>0.00874</td>\n",
       "      <td>-0.452543</td>\n",
       "      <td>No</td>\n",
       "    </tr>\n",
       "  </tbody>\n",
       "</table>\n",
       "</div>"
      ],
      "text/plain": [
       "          0         1         2         3         4         5        6  \\\n",
       "0 -0.694779 -0.723093 -1.009129 -1.431771  0.354952  0.003363  0.00874   \n",
       "1 -0.694779 -0.723093  0.990954  0.417145 -0.683660  1.421794  0.00874   \n",
       "2 -0.694779 -0.723093 -1.009129  0.516390  0.435589  0.003363  0.00874   \n",
       "3  1.439306 -0.723093  0.990954  0.444561 -0.294177 -1.415068  0.00874   \n",
       "4 -0.694779 -0.723093 -1.009129 -1.063517  0.236492  1.421794  0.00874   \n",
       "\n",
       "          7   8  \n",
       "0  1.328773  No  \n",
       "1 -1.343201  No  \n",
       "2 -0.452543  No  \n",
       "3  0.438115  No  \n",
       "4 -0.452543  No  "
      ]
     },
     "execution_count": 107,
     "metadata": {},
     "output_type": "execute_result"
    }
   ],
   "source": [
    "data.head()"
   ]
  },
  {
   "cell_type": "code",
   "execution_count": 108,
   "metadata": {},
   "outputs": [],
   "source": [
    "y = pd.DataFrame(data['8'])\n",
    "X = data.drop(['8'],axis=1)"
   ]
  },
  {
   "cell_type": "code",
   "execution_count": 109,
   "metadata": {},
   "outputs": [],
   "source": [
    "mapping = {\n",
    "        'Yes': 1,\n",
    "        'No': 0,\n",
    "    }\n",
    "y = y['8'].replace(mapping)"
   ]
  },
  {
   "cell_type": "code",
   "execution_count": 110,
   "metadata": {},
   "outputs": [],
   "source": [
    "X_train, X_test, y_train, y_test = train_test_split(X, y, test_size=0.4, random_state=100)"
   ]
  },
  {
   "cell_type": "code",
   "execution_count": 111,
   "metadata": {},
   "outputs": [
    {
     "data": {
      "text/plain": [
       "0    0\n",
       "1    0\n",
       "2    0\n",
       "3    0\n",
       "4    0\n",
       "Name: 8, dtype: int64"
      ]
     },
     "execution_count": 111,
     "metadata": {},
     "output_type": "execute_result"
    }
   ],
   "source": [
    "y.head()"
   ]
  },
  {
   "cell_type": "code",
   "execution_count": 112,
   "metadata": {},
   "outputs": [
    {
     "data": {
      "text/html": [
       "<div>\n",
       "<style scoped>\n",
       "    .dataframe tbody tr th:only-of-type {\n",
       "        vertical-align: middle;\n",
       "    }\n",
       "\n",
       "    .dataframe tbody tr th {\n",
       "        vertical-align: top;\n",
       "    }\n",
       "\n",
       "    .dataframe thead th {\n",
       "        text-align: right;\n",
       "    }\n",
       "</style>\n",
       "<table border=\"1\" class=\"dataframe\">\n",
       "  <thead>\n",
       "    <tr style=\"text-align: right;\">\n",
       "      <th></th>\n",
       "      <th>0</th>\n",
       "      <th>1</th>\n",
       "      <th>2</th>\n",
       "      <th>3</th>\n",
       "      <th>4</th>\n",
       "      <th>5</th>\n",
       "      <th>6</th>\n",
       "      <th>7</th>\n",
       "    </tr>\n",
       "  </thead>\n",
       "  <tbody>\n",
       "    <tr>\n",
       "      <th>0</th>\n",
       "      <td>-0.694779</td>\n",
       "      <td>-0.723093</td>\n",
       "      <td>-1.009129</td>\n",
       "      <td>-1.431771</td>\n",
       "      <td>0.354952</td>\n",
       "      <td>0.003363</td>\n",
       "      <td>0.00874</td>\n",
       "      <td>1.328773</td>\n",
       "    </tr>\n",
       "    <tr>\n",
       "      <th>1</th>\n",
       "      <td>-0.694779</td>\n",
       "      <td>-0.723093</td>\n",
       "      <td>0.990954</td>\n",
       "      <td>0.417145</td>\n",
       "      <td>-0.683660</td>\n",
       "      <td>1.421794</td>\n",
       "      <td>0.00874</td>\n",
       "      <td>-1.343201</td>\n",
       "    </tr>\n",
       "    <tr>\n",
       "      <th>2</th>\n",
       "      <td>-0.694779</td>\n",
       "      <td>-0.723093</td>\n",
       "      <td>-1.009129</td>\n",
       "      <td>0.516390</td>\n",
       "      <td>0.435589</td>\n",
       "      <td>0.003363</td>\n",
       "      <td>0.00874</td>\n",
       "      <td>-0.452543</td>\n",
       "    </tr>\n",
       "    <tr>\n",
       "      <th>3</th>\n",
       "      <td>1.439306</td>\n",
       "      <td>-0.723093</td>\n",
       "      <td>0.990954</td>\n",
       "      <td>0.444561</td>\n",
       "      <td>-0.294177</td>\n",
       "      <td>-1.415068</td>\n",
       "      <td>0.00874</td>\n",
       "      <td>0.438115</td>\n",
       "    </tr>\n",
       "    <tr>\n",
       "      <th>4</th>\n",
       "      <td>-0.694779</td>\n",
       "      <td>-0.723093</td>\n",
       "      <td>-1.009129</td>\n",
       "      <td>-1.063517</td>\n",
       "      <td>0.236492</td>\n",
       "      <td>1.421794</td>\n",
       "      <td>0.00874</td>\n",
       "      <td>-0.452543</td>\n",
       "    </tr>\n",
       "  </tbody>\n",
       "</table>\n",
       "</div>"
      ],
      "text/plain": [
       "          0         1         2         3         4         5        6  \\\n",
       "0 -0.694779 -0.723093 -1.009129 -1.431771  0.354952  0.003363  0.00874   \n",
       "1 -0.694779 -0.723093  0.990954  0.417145 -0.683660  1.421794  0.00874   \n",
       "2 -0.694779 -0.723093 -1.009129  0.516390  0.435589  0.003363  0.00874   \n",
       "3  1.439306 -0.723093  0.990954  0.444561 -0.294177 -1.415068  0.00874   \n",
       "4 -0.694779 -0.723093 -1.009129 -1.063517  0.236492  1.421794  0.00874   \n",
       "\n",
       "          7  \n",
       "0  1.328773  \n",
       "1 -1.343201  \n",
       "2 -0.452543  \n",
       "3  0.438115  \n",
       "4 -0.452543  "
      ]
     },
     "execution_count": 112,
     "metadata": {},
     "output_type": "execute_result"
    }
   ],
   "source": [
    "X.head()"
   ]
  },
  {
   "cell_type": "code",
   "execution_count": 113,
   "metadata": {},
   "outputs": [],
   "source": [
    "def oversampler_choice(x):\n",
    "    global X_train, y_train\n",
    "    if x==\"ros\":\n",
    "        ros = RandomOverSampler()\n",
    "        X_train, y_train = ros.fit_sample(X_train, y_train)\n",
    "        print(\"Random Oversampler: \", y.value_counts())\n",
    "    elif x==\"smote\":\n",
    "        smote = SMOTE()\n",
    "        X_train, y_train= smote.fit_sample(X_train, y_train)\n",
    "        print(\"SMOTE: \", y_train.value_counts())\n",
    "    elif x == \"ada\":\n",
    "        ada = ADASYN(random_state=42)\n",
    "        X_train, y_train = ada.fit_sample(X_train, y_train)\n",
    "        print(\"ADASYN: \", y_train.value_counts())\n",
    "    else:\n",
    "        print (\"Input should be ros, smote or ada\")"
   ]
  },
  {
   "cell_type": "code",
   "execution_count": 114,
   "metadata": {},
   "outputs": [
    {
     "name": "stdout",
     "output_type": "stream",
     "text": [
      "SMOTE:  0    1431\n",
      "1    1431\n",
      "Name: 8, dtype: int64\n"
     ]
    }
   ],
   "source": [
    "#Choose oversampler. Random Oversampler: \"ros\", SMOTE: \"smote\", ADASYN: \"ada\"\n",
    "oversampler_choice(\"smote\")\n"
   ]
  },
  {
   "cell_type": "code",
   "execution_count": 115,
   "metadata": {},
   "outputs": [
    {
     "name": "stdout",
     "output_type": "stream",
     "text": [
      "Counter({0: 2381, 1: 150})\n",
      "Counter({0: 1431, 1: 1425})\n"
     ]
    }
   ],
   "source": [
    "# Undersample and plot imbalanced dataset with Tomek Links\n",
    "from collections import Counter\n",
    "from sklearn.datasets import make_classification\n",
    "from imblearn.under_sampling import TomekLinks\n",
    "from matplotlib import pyplot\n",
    "from numpy import where\n",
    "# summarize class distribution\n",
    "counter = Counter(y)\n",
    "print(counter)\n",
    "# define the undersampling method\n",
    "undersample = TomekLinks()\n",
    "# transform the dataset\n",
    "X_train, y_train = undersample.fit_resample(X_train, y_train)\n",
    "# summarize the new class distribution\n",
    "counter = Counter(y_train)\n",
    "print(counter)\n",
    "# scatter plot of examples by class label"
   ]
  },
  {
   "cell_type": "code",
   "execution_count": 116,
   "metadata": {},
   "outputs": [],
   "source": [
    "#for label, _ in counter.items():\n",
    "#\trow_ix = where(y == label)[0]\n",
    "#\tpyplot.scatter(X, y, label=str(label))\n",
    "#pyplot.legend()\n",
    "#pyplot.show()"
   ]
  },
  {
   "cell_type": "code",
   "execution_count": 117,
   "metadata": {},
   "outputs": [
    {
     "name": "stdout",
     "output_type": "stream",
     "text": [
      "LR: 0.940736 (0.016098)\n",
      "KNN: 0.934811 (0.014267)\n",
      "CART: 0.880279 (0.017624)\n",
      "NB: 0.940736 (0.016098)\n",
      "RFC: 0.938366 (0.015522)\n"
     ]
    }
   ],
   "source": [
    "#Kfold validation\n",
    "models = []\n",
    "models.append(('LR', LogisticRegression()))\n",
    "models.append(('KNN', KNeighborsClassifier()))\n",
    "models.append(('CART', DecisionTreeClassifier()))\n",
    "models.append(('NB', GaussianNB()))\n",
    "models.append(('RFC', RandomForestClassifier()))\n",
    "\n",
    "\n",
    "results = []\n",
    "names = []\n",
    "scoring = 'accuracy'\n",
    "\n",
    "for name, model in models:\n",
    "    kfold = KFold(n_splits=10, random_state=7)\n",
    "    cv_results = cross_val_score(model, X, y, cv=kfold, scoring=scoring)\n",
    "    results.append(cv_results)\n",
    "    names.append(name)\n",
    "    msg = \"%s: %f (%f)\" % (name, cv_results.mean(), cv_results.std())\n",
    "    print(msg)"
   ]
  },
  {
   "cell_type": "code",
   "execution_count": 118,
   "metadata": {},
   "outputs": [],
   "source": [
    "#split into train/test data\n",
    "#X_train, X_test, y_train, y_test = train_test_split(X, y, test_size=0.4, random_state=100)"
   ]
  },
  {
   "cell_type": "code",
   "execution_count": 119,
   "metadata": {},
   "outputs": [],
   "source": [
    "def model_predictions(x):\n",
    "    global X_train, X_test, y_train, y_test\n",
    "    if x == \"logistic\":\n",
    "        model = LogisticRegression(random_state=0, solver='lbfgs', multi_class='multinomial')\n",
    "        model.fit(X_train, y_train)\n",
    "        print(\"Logistic:\")\n",
    "        predictions =  model.predict(X_test)\n",
    "    elif x == \"knn\":\n",
    "        model = KNeighborsClassifier(n_neighbors=5, weights = 'distance')\n",
    "        model.fit(X_train, y_train)\n",
    "        print(\"KNN:\")\n",
    "        predictions = model.predict(X_test)\n",
    "    elif x==\"decision_tree\":\n",
    "        model = DecisionTreeClassifier()\n",
    "        model.fit(X_train, y_train)\n",
    "        print(\"Decision Tree:\")\n",
    "        predictions = model.predict(X_test)\n",
    "    elif x==\"random_forest\":\n",
    "        model = RandomForestClassifier()\n",
    "        model.fit(X_train, y_train)\n",
    "        print (\"Random Forest:\")\n",
    "        predictions = model.predict(X_test)\n",
    "    else:\n",
    "        print (\"Choose logistic, knn, decision_tree or random_forest\")   \n",
    "    \n",
    "    print(\"The accuracy of the model on test set is: \", accuracy_score(y_test, predictions))\n",
    "    print(\"Kappa: \", cohen_kappa_score(y_test, predictions))       \n",
    "    #print(\"ROC-AUC score: \", roc_auc_score(y_test, predictions)) #should be as high as possible 0-1\n",
    "    print(\"Accuracy score: \", accuracy_score(y_test, predictions)) #percent correct 0-1\n",
    "    #print(\"F1 score: \", f1_score(y_test, predictions)) #should be as high as possible 0-1      \n",
    "    print (\"R squared: \", r2_score(y_test, predictions))\n",
    "    print (\"MSE: \", mean_squared_error(y_test, predictions))\n",
    "    print (\"RMSE: \", math.sqrt(mean_squared_error(y_test, predictions)))\n",
    "    print (\"MAE: \", mean_absolute_error(y_test, predictions))\n",
    "    print (\"Confusion Matrix - raw:\")\n",
    "    plot_confusion_matrix(model, X_test, y_test, cmap = \"GnBu\")\n",
    "    plt.show() \n",
    "    print (\"Confusion Matrix - normalised:\")\n",
    "    plot_confusion_matrix(model, X_test, y_test, normalize='all', cmap = \"GnBu\")\n",
    "    plt.show() "
   ]
  },
  {
   "cell_type": "code",
   "execution_count": 120,
   "metadata": {},
   "outputs": [
    {
     "name": "stdout",
     "output_type": "stream",
     "text": [
      "Random Forest:\n",
      "The accuracy of the model on test set is:  0.914116485686081\n",
      "Kappa:  0.0441634220144681\n",
      "Accuracy score:  0.914116485686081\n",
      "R squared:  -0.47253132832080214\n",
      "MSE:  0.08588351431391905\n",
      "RMSE:  0.2930588922280282\n",
      "MAE:  0.08588351431391905\n",
      "Confusion Matrix - raw:\n"
     ]
    },
    {
     "data": {
      "image/png": "[encoded data removed]",
      "text/plain": [
       "<Figure size 432x288 with 2 Axes>"
      ]
     },
     "metadata": {
      "needs_background": "light"
     },
     "output_type": "display_data"
    },
    {
     "name": "stdout",
     "output_type": "stream",
     "text": [
      "Confusion Matrix - normalised:\n"
     ]
    },
    {
     "data": {
      "image/png": "[encoded data removed]",
      "text/plain": [
       "<Figure size 432x288 with 2 Axes>"
      ]
     },
     "metadata": {
      "needs_background": "light"
     },
     "output_type": "display_data"
    }
   ],
   "source": [
    "#choose which model to run. Logistic Regression: \"logistic\", K Nearest Neighbours: \"knn\", \n",
    "#Decision Tree: \"decision_tree\", Random Forest: \"random_forest\"\n",
    "\n",
    "model_predictions(\"random_forest\")"
   ]
  },
  {
   "cell_type": "code",
   "execution_count": 121,
   "metadata": {},
   "outputs": [],
   "source": [
    "X_train.columns = ['reward', 'mailer_type', 'mailer_type','income_level','credit_rating','household_size','average_balance','range']"
   ]
  },
  {
   "cell_type": "code",
   "execution_count": 122,
   "metadata": {},
   "outputs": [
    {
     "data": {
      "text/html": [
       "<div>\n",
       "<style scoped>\n",
       "    .dataframe tbody tr th:only-of-type {\n",
       "        vertical-align: middle;\n",
       "    }\n",
       "\n",
       "    .dataframe tbody tr th {\n",
       "        vertical-align: top;\n",
       "    }\n",
       "\n",
       "    .dataframe thead th {\n",
       "        text-align: right;\n",
       "    }\n",
       "</style>\n",
       "<table border=\"1\" class=\"dataframe\">\n",
       "  <thead>\n",
       "    <tr style=\"text-align: right;\">\n",
       "      <th></th>\n",
       "      <th>reward</th>\n",
       "      <th>mailer_type</th>\n",
       "      <th>mailer_type</th>\n",
       "      <th>income_level</th>\n",
       "      <th>credit_rating</th>\n",
       "      <th>household_size</th>\n",
       "      <th>average_balance</th>\n",
       "      <th>range</th>\n",
       "    </tr>\n",
       "  </thead>\n",
       "  <tbody>\n",
       "    <tr>\n",
       "      <th>0</th>\n",
       "      <td>-0.694779</td>\n",
       "      <td>-0.723093</td>\n",
       "      <td>0.990954</td>\n",
       "      <td>1.261127</td>\n",
       "      <td>-0.607617</td>\n",
       "      <td>-1.415068</td>\n",
       "      <td>0.008740</td>\n",
       "      <td>2.219431</td>\n",
       "    </tr>\n",
       "    <tr>\n",
       "      <th>1</th>\n",
       "      <td>-0.694779</td>\n",
       "      <td>1.382947</td>\n",
       "      <td>-1.009129</td>\n",
       "      <td>-0.053629</td>\n",
       "      <td>1.189053</td>\n",
       "      <td>1.421794</td>\n",
       "      <td>0.008740</td>\n",
       "      <td>-2.233859</td>\n",
       "    </tr>\n",
       "    <tr>\n",
       "      <th>2</th>\n",
       "      <td>-0.694779</td>\n",
       "      <td>-0.723093</td>\n",
       "      <td>-1.009129</td>\n",
       "      <td>1.575597</td>\n",
       "      <td>-3.147242</td>\n",
       "      <td>1.421794</td>\n",
       "      <td>-1.220186</td>\n",
       "      <td>0.438115</td>\n",
       "    </tr>\n",
       "    <tr>\n",
       "      <th>3</th>\n",
       "      <td>1.439306</td>\n",
       "      <td>-0.723093</td>\n",
       "      <td>-1.009129</td>\n",
       "      <td>-0.313839</td>\n",
       "      <td>0.947622</td>\n",
       "      <td>-1.415068</td>\n",
       "      <td>0.008740</td>\n",
       "      <td>0.438115</td>\n",
       "    </tr>\n",
       "    <tr>\n",
       "      <th>4</th>\n",
       "      <td>-0.694779</td>\n",
       "      <td>1.382947</td>\n",
       "      <td>0.990954</td>\n",
       "      <td>0.849060</td>\n",
       "      <td>-0.650925</td>\n",
       "      <td>0.003363</td>\n",
       "      <td>-1.220186</td>\n",
       "      <td>0.438115</td>\n",
       "    </tr>\n",
       "  </tbody>\n",
       "</table>\n",
       "</div>"
      ],
      "text/plain": [
       "     reward  mailer_type  mailer_type  income_level  credit_rating  \\\n",
       "0 -0.694779    -0.723093     0.990954      1.261127      -0.607617   \n",
       "1 -0.694779     1.382947    -1.009129     -0.053629       1.189053   \n",
       "2 -0.694779    -0.723093    -1.009129      1.575597      -3.147242   \n",
       "3  1.439306    -0.723093    -1.009129     -0.313839       0.947622   \n",
       "4 -0.694779     1.382947     0.990954      0.849060      -0.650925   \n",
       "\n",
       "   household_size  average_balance     range  \n",
       "0       -1.415068         0.008740  2.219431  \n",
       "1        1.421794         0.008740 -2.233859  \n",
       "2        1.421794        -1.220186  0.438115  \n",
       "3       -1.415068         0.008740  0.438115  \n",
       "4        0.003363        -1.220186  0.438115  "
      ]
     },
     "execution_count": 122,
     "metadata": {},
     "output_type": "execute_result"
    }
   ],
   "source": [
    "X_train.head()"
   ]
  },
  {
   "cell_type": "code",
   "execution_count": 123,
   "metadata": {},
   "outputs": [],
   "source": [
    "y_train = pd.DataFrame(y_train)"
   ]
  },
  {
   "cell_type": "code",
   "execution_count": 124,
   "metadata": {},
   "outputs": [],
   "source": [
    "y_train.columns = ['offer_accepted']"
   ]
  },
  {
   "cell_type": "code",
   "execution_count": 125,
   "metadata": {},
   "outputs": [
    {
     "data": {
      "text/html": [
       "<div>\n",
       "<style scoped>\n",
       "    .dataframe tbody tr th:only-of-type {\n",
       "        vertical-align: middle;\n",
       "    }\n",
       "\n",
       "    .dataframe tbody tr th {\n",
       "        vertical-align: top;\n",
       "    }\n",
       "\n",
       "    .dataframe thead th {\n",
       "        text-align: right;\n",
       "    }\n",
       "</style>\n",
       "<table border=\"1\" class=\"dataframe\">\n",
       "  <thead>\n",
       "    <tr style=\"text-align: right;\">\n",
       "      <th></th>\n",
       "      <th>offer_accepted</th>\n",
       "    </tr>\n",
       "  </thead>\n",
       "  <tbody>\n",
       "    <tr>\n",
       "      <th>0</th>\n",
       "      <td>0</td>\n",
       "    </tr>\n",
       "    <tr>\n",
       "      <th>1</th>\n",
       "      <td>0</td>\n",
       "    </tr>\n",
       "    <tr>\n",
       "      <th>2</th>\n",
       "      <td>0</td>\n",
       "    </tr>\n",
       "    <tr>\n",
       "      <th>3</th>\n",
       "      <td>0</td>\n",
       "    </tr>\n",
       "    <tr>\n",
       "      <th>4</th>\n",
       "      <td>0</td>\n",
       "    </tr>\n",
       "  </tbody>\n",
       "</table>\n",
       "</div>"
      ],
      "text/plain": [
       "   offer_accepted\n",
       "0               0\n",
       "1               0\n",
       "2               0\n",
       "3               0\n",
       "4               0"
      ]
     },
     "execution_count": 125,
     "metadata": {},
     "output_type": "execute_result"
    }
   ],
   "source": [
    "y_train.head()"
   ]
  },
  {
   "cell_type": "code",
   "execution_count": 128,
   "metadata": {},
   "outputs": [
    {
     "data": {
      "text/plain": [
       "Index(['reward', 'mailer_type', 'mailer_type', 'income_level', 'credit_rating',\n",
       "       'household_size', 'average_balance', 'range'],\n",
       "      dtype='object')"
      ]
     },
     "execution_count": 128,
     "metadata": {},
     "output_type": "execute_result"
    }
   ],
   "source": [
    "X_train.columns"
   ]
  },
  {
   "cell_type": "markdown",
   "metadata": {},
   "source": [
    "feature importance"
   ]
  },
  {
   "cell_type": "code",
   "execution_count": 144,
   "metadata": {},
   "outputs": [
    {
     "name": "stdout",
     "output_type": "stream",
     "text": [
      "Feature: 0, Score: 0.08418\n",
      "Feature: 1, Score: 0.04271\n",
      "Feature: 2, Score: 0.08131\n",
      "Feature: 3, Score: 0.13220\n",
      "Feature: 4, Score: 0.13936\n",
      "Feature: 5, Score: 0.16043\n",
      "Feature: 6, Score: 0.20597\n",
      "Feature: 7, Score: 0.15385\n"
     ]
    },
    {
     "data": {
      "text/plain": [
       "([0, 1, 2, 3, 4, 5, 6],\n",
       " [Text(0, 0, ''),\n",
       "  Text(0, 0, ''),\n",
       "  Text(0, 0, ''),\n",
       "  Text(0, 0, ''),\n",
       "  Text(0, 0, ''),\n",
       "  Text(0, 0, ''),\n",
       "  Text(0, 0, '')])"
      ]
     },
     "execution_count": 144,
     "metadata": {},
     "output_type": "execute_result"
    },
    {
     "data": {
      "image/png": "[encoded data removed]",
      "text/plain": [
       "<Figure size 432x288 with 1 Axes>"
      ]
     },
     "metadata": {
      "needs_background": "light"
     },
     "output_type": "display_data"
    }
   ],
   "source": [
    "\n",
    "# random forest for feature importance on a classification problem\n",
    "from sklearn.datasets import make_classification\n",
    "from sklearn.ensemble import RandomForestClassifier\n",
    "from matplotlib import pyplot\n",
    "# define dataset\n",
    "#X_train, y_train = make_classification(n_samples=1000, n_features=10, n_informative=5, n_redundant=5, random_state=1)\n",
    "# define the model\n",
    "model = RandomForestClassifier()\n",
    "# fit the model\n",
    "model.fit(X_train, y_train)\n",
    "# get importance\n",
    "importance = model.feature_importances_\n",
    "# summarize feature importance\n",
    "for i,v in enumerate(importance):\n",
    "    print('Feature: %0d, Score: %.5f' % (i,v))\n",
    "# plot feature importance\n",
    "pyplot.bar([x for x in X_train], importance)\n",
    "plt.xticks(rotation='vertical')\n"
   ]
  },
  {
   "cell_type": "code",
   "execution_count": null,
   "metadata": {},
   "outputs": [],
   "source": []
  },
  {
   "cell_type": "code",
   "execution_count": null,
   "metadata": {},
   "outputs": [],
   "source": [
    "import matplotlib.pyplot as plt\n",
    "import numpy as np\n",
    "import PIL\n",
    "import pydotplus \n",
    "from sklearn import tree\n",
    "import pandas as pd\n",
    "from sklearn.ensemble import RandomForestClassifier\n",
    "from sklearn.model_selection import train_test_split\n",
    "from sklearn.tree import export_graphviz\n",
    "from sklearn.datasets import load_iris\n",
    "import matplotlib.pyplot as plt\n",
    "import numpy as np\n",
    "import PIL\n",
    "import pydotplus\n",
    "import warnings\n",
    "from glob import glob\n",
    "from IPython.display import display, Image\n",
    "from sklearn.datasets import load_iris\n",
    "from sklearn.ensemble import RandomForestClassifier\n",
    "from sklearn.tree import export_graphviz\n",
    "#from graphviz import render\n",
    "#render('dot', 'png', 'fname.dot')\n",
    "\n",
    "def save_decision_trees_as_png(clf, iteration, feature_name, target_name):\n",
    "    file_name = 'client_' + str(iteration) + '.png'\n",
    "    dot_data= export_graphviz(\n",
    "        clf,\n",
    "        out_file=None,\n",
    "        feature_names = feature_names,\n",
    "        class_names = target_name,\n",
    "        rounded = True,\n",
    "        proportion= False,\n",
    "        precision = 2,\n",
    "        filled = True,\n",
    "    )\n",
    "    #graph = pydotplus.graph_from_dot_data(dot_data)\n",
    "    graph = pydotplus.graphviz.graph_from_dot_data(dot_data)\n",
    "    graph.write_png('C:\\\\Users\\\\segre\\\\OneDrive\\\\Documents\\\\'+file_name)\n",
    "    print('Decision Tree {} saved as png file'.format(iteration + 1))"
   ]
  },
  {
   "cell_type": "code",
   "execution_count": null,
   "metadata": {},
   "outputs": [],
   "source": [
    "iris = load_iris()\n",
    "feature_names = iris.feature_names\n",
    "target_names = iris.target_names"
   ]
  },
  {
   "cell_type": "code",
   "execution_count": null,
   "metadata": {},
   "outputs": [],
   "source": [
    "model = RandomForestClassifier(n_estimators=5)\n",
    "model.fit(iris.data, iris.target)"
   ]
  },
  {
   "cell_type": "code",
   "execution_count": null,
   "metadata": {},
   "outputs": [],
   "source": [
    "model.estimators_"
   ]
  },
  {
   "cell_type": "code",
   "execution_count": null,
   "metadata": {},
   "outputs": [],
   "source": [
    "model.estimators_[0]"
   ]
  },
  {
   "cell_type": "code",
   "execution_count": null,
   "metadata": {},
   "outputs": [],
   "source": [
    "len(model.estimators_)"
   ]
  },
  {
   "cell_type": "code",
   "execution_count": null,
   "metadata": {},
   "outputs": [],
   "source": [
    "for i in range(len(model.estimators_)):\n",
    "    save_decision_trees_as_png(model.estimators_[i], i, feature_names, target_names)"
   ]
  },
  {
   "cell_type": "code",
   "execution_count": null,
   "metadata": {},
   "outputs": [],
   "source": [
    "images = [ PIL.Image.open(f) for f in glob('./*.png') ]"
   ]
  },
  {
   "cell_type": "code",
   "execution_count": null,
   "metadata": {},
   "outputs": [],
   "source": [
    "images"
   ]
  },
  {
   "cell_type": "code",
   "execution_count": null,
   "metadata": {},
   "outputs": [],
   "source": [
    "for im in images:\n",
    "    display(Image(filename=im.filename, retina=True))"
   ]
  },
  {
   "cell_type": "code",
   "execution_count": null,
   "metadata": {},
   "outputs": [],
   "source": [
    "feature_names"
   ]
  },
  {
   "cell_type": "code",
   "execution_count": null,
   "metadata": {},
   "outputs": [],
   "source": [
    "d_tree = tree.DecisionTreeClassifier()\n",
    "d_tree.fit(X_train, y_train)\n",
    "\n",
    "dot_data = tree.export_graphviz(d_tree,\n",
    "                                out_file=None,\n",
    "                                filled=True,\n",
    "                                rounded=True,\n",
    "                                special_characters=True)  \n",
    "graph = pydotplus.graph_from_dot_data(dot_data)  \n",
    "\n",
    "from IPython.display import Image \n",
    "Image(graph.create_png()) "
   ]
  },
  {
   "cell_type": "markdown",
   "metadata": {},
   "source": [
    "def firth_logit(X,y,num_iter=100,learning_rate=0.01):\n",
    "    #Initialize weights\n",
    "    weights = np.ones(X.shape[1])\n",
    "    print (weights)\n",
    "    #Define get_predictions function\n",
    "    def get_predictions(X,weights):\n",
    "        z = np.dot(X,weights)\n",
    "        print (z)\n",
    "        y_pred =  1/(1 + np.exp(-z))\n",
    "        print (y_pred)\n",
    "    #Perform gradient descent\n",
    "    for i in range(num_iter):\n",
    "        y_pred = get_predictions(X,weights)\n",
    "        print (y_pred)\n",
    "        #Calculate Fisher information matrix\n",
    "        Xt = X.transpose()\n",
    "        W = np.diag(y_pred*(1-y_pred))\n",
    "        I = np.linalg.multi_dot([Xt,W,X])\n",
    "        #Find diagonal of Hat Matrix\n",
    "        sqrtW = W**0.5\n",
    "        H = np.linalg.multi_dot([sqrtW,X,np.linalg.inv(I),Xt,sqrtW])\n",
    "        hat_diag = np.diag(H)\n",
    "        #Calculate U_star\n",
    "        U_star = np.matmul((y -y_pred + hat_diag*(0.5 - y_pred)),X)\n",
    "        #Update weights\n",
    "        weights += np.matmul(np.linalg.inv(I),U_star)*learning_rate\n",
    "        #Get final predictions\n",
    "    y_pred =  get_predictions(X,weights)\n",
    "    return y_pred"
   ]
  },
  {
   "cell_type": "code",
   "execution_count": null,
   "metadata": {},
   "outputs": [],
   "source": [
    "import numpy as np\n",
    "import matplotlib.pyplot as plt\n",
    "from sklearn.datasets import make_blobs\n",
    "from sklearn.ensemble import RandomForestClassifier\n",
    "\n",
    "\n",
    "X, y = make_blobs(centers=[[0, 0], [1, 1]], random_state=61526, n_samples=50)\n",
    "\n",
    "def plot_forest(max_depth=1):\n",
    "    plt.figure()\n",
    "    ax = plt.gca()\n",
    "    h = 0.02\n",
    "\n",
    "    x_min, x_max = X[:, 0].min() - .5, X[:, 0].max() + .5\n",
    "    y_min, y_max = X[:, 1].min() - .5, X[:, 1].max() + .5\n",
    "    xx, yy = np.meshgrid(np.arange(x_min, x_max, h), np.arange(y_min, y_max, h))\n",
    "\n",
    "    if max_depth != 0:\n",
    "        forest = RandomForestClassifier(n_estimators=20, max_depth=max_depth,\n",
    "                                        random_state=1).fit(X, y)\n",
    "        Z = forest.predict_proba(np.c_[xx.ravel(), yy.ravel()])[:, 1]\n",
    "        Z = Z.reshape(xx.shape)\n",
    "        ax.contourf(xx, yy, Z, alpha=.4)\n",
    "        ax.set_title(\"max_depth = %d\" % max_depth)\n",
    "    else:\n",
    "        ax.set_title(\"data set\")\n",
    "    ax.scatter(X[:, 0], X[:, 1], c=np.array(['b', 'r'])[y], s=60)\n",
    "    ax.set_xlim(x_min, x_max)\n",
    "    ax.set_ylim(y_min, y_max)\n",
    "    ax.set_xticks(())\n",
    "    ax.set_yticks(())\n",
    "\n",
    "\n",
    "def plot_forest_interactive():\n",
    "    from IPython.html.widgets import interactive, IntSlider\n",
    "    slider = IntSlider(min=0, max=8, step=1, value=0)\n",
    "    return interactive(plot_forest, max_depth=slider)\n",
    "\n",
    "plot_forest_interactive()"
   ]
  }
 ],
 "metadata": {
  "kernelspec": {
   "display_name": "Python 3",
   "language": "python",
   "name": "python3"
  },
  "language_info": {
   "codemirror_mode": {
    "name": "ipython",
    "version": 3
   },
   "file_extension": ".py",
   "mimetype": "text/x-python",
   "name": "python",
   "nbconvert_exporter": "python",
   "pygments_lexer": "ipython3",
   "version": "3.8.5"
  }
 },
 "nbformat": 4,
 "nbformat_minor": 4
}
